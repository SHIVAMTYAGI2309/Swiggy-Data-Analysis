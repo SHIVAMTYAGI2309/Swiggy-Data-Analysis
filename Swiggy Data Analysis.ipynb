{
 "cells": [
  {
   "cell_type": "markdown",
   "id": "b582dd6b",
   "metadata": {},
   "source": [
    "# Swiggy Data Analysis"
   ]
  },
  {
   "cell_type": "markdown",
   "id": "56350ee3",
   "metadata": {},
   "source": [
    "# Libraries"
   ]
  },
  {
   "cell_type": "code",
   "execution_count": 4,
   "id": "fd07c392",
   "metadata": {},
   "outputs": [],
   "source": [
    "import pandas as pd\n",
    "import numpy as np\n",
    "import matplotlib.pyplot as plt\n",
    "import seaborn as sns"
   ]
  },
  {
   "cell_type": "markdown",
   "id": "ace0abd3",
   "metadata": {},
   "source": [
    "# Reading data"
   ]
  },
  {
   "cell_type": "code",
   "execution_count": 5,
   "id": "61f2ac1d",
   "metadata": {
    "scrolled": true
   },
   "outputs": [
    {
     "data": {
      "text/html": [
       "<div>\n",
       "<style scoped>\n",
       "    .dataframe tbody tr th:only-of-type {\n",
       "        vertical-align: middle;\n",
       "    }\n",
       "\n",
       "    .dataframe tbody tr th {\n",
       "        vertical-align: top;\n",
       "    }\n",
       "\n",
       "    .dataframe thead th {\n",
       "        text-align: right;\n",
       "    }\n",
       "</style>\n",
       "<table border=\"1\" class=\"dataframe\">\n",
       "  <thead>\n",
       "    <tr style=\"text-align: right;\">\n",
       "      <th></th>\n",
       "      <th>Shop_Name</th>\n",
       "      <th>Cuisine</th>\n",
       "      <th>Location</th>\n",
       "      <th>Rating</th>\n",
       "      <th>Cost_for_Two</th>\n",
       "    </tr>\n",
       "  </thead>\n",
       "  <tbody>\n",
       "    <tr>\n",
       "      <th>0</th>\n",
       "      <td>Kanti Sweets</td>\n",
       "      <td>Sweets</td>\n",
       "      <td>Koramangala, Koramangala</td>\n",
       "      <td>4.3</td>\n",
       "      <td>₹ 150</td>\n",
       "    </tr>\n",
       "    <tr>\n",
       "      <th>1</th>\n",
       "      <td>Mumbai Tiffin</td>\n",
       "      <td>North Indian, Home Food, Thalis, Combo</td>\n",
       "      <td>Sector 5, HSR</td>\n",
       "      <td>4.4</td>\n",
       "      <td>₹ 400</td>\n",
       "    </tr>\n",
       "    <tr>\n",
       "      <th>2</th>\n",
       "      <td>Sri Krishna sagar</td>\n",
       "      <td>South Indian, North Indian, Fast Food, Beverag...</td>\n",
       "      <td>6th Block, Koramangala</td>\n",
       "      <td>4.1</td>\n",
       "      <td>₹ 126</td>\n",
       "    </tr>\n",
       "    <tr>\n",
       "      <th>3</th>\n",
       "      <td>Al Daaz</td>\n",
       "      <td>American, Arabian, Chinese, Desserts, Fast Foo...</td>\n",
       "      <td>HSR, HSR</td>\n",
       "      <td>4.4</td>\n",
       "      <td>₹ 400</td>\n",
       "    </tr>\n",
       "    <tr>\n",
       "      <th>4</th>\n",
       "      <td>Beijing Bites</td>\n",
       "      <td>Chinese, Thai</td>\n",
       "      <td>5th Block, Koramangala</td>\n",
       "      <td>4.1</td>\n",
       "      <td>₹ 450</td>\n",
       "    </tr>\n",
       "    <tr>\n",
       "      <th>...</th>\n",
       "      <td>...</td>\n",
       "      <td>...</td>\n",
       "      <td>...</td>\n",
       "      <td>...</td>\n",
       "      <td>...</td>\n",
       "    </tr>\n",
       "    <tr>\n",
       "      <th>113</th>\n",
       "      <td>Wok Paper Scissors</td>\n",
       "      <td>Pan-Asian, Chinese, Asian</td>\n",
       "      <td>JNC Road, Koramangala</td>\n",
       "      <td>3.9</td>\n",
       "      <td>₹ 219</td>\n",
       "    </tr>\n",
       "    <tr>\n",
       "      <th>114</th>\n",
       "      <td>Savoury Restaurant</td>\n",
       "      <td>Arabian, Middle Eastern, North Indian, Grill, ...</td>\n",
       "      <td>Madiwala, BTM</td>\n",
       "      <td>4.1</td>\n",
       "      <td>₹ 600</td>\n",
       "    </tr>\n",
       "    <tr>\n",
       "      <th>115</th>\n",
       "      <td>Royal Treat</td>\n",
       "      <td>North Indian, Chinese, Seafood, Biryani</td>\n",
       "      <td>5th block Koramangala, Koramangala</td>\n",
       "      <td>4.2</td>\n",
       "      <td>₹ 193</td>\n",
       "    </tr>\n",
       "    <tr>\n",
       "      <th>116</th>\n",
       "      <td>Thali 99</td>\n",
       "      <td>North Indian</td>\n",
       "      <td>Koramangala, Koramangala</td>\n",
       "      <td>4.3</td>\n",
       "      <td>₹ 200</td>\n",
       "    </tr>\n",
       "    <tr>\n",
       "      <th>117</th>\n",
       "      <td>Mani's Dum Biryani</td>\n",
       "      <td>Andhra, Biryani</td>\n",
       "      <td>1st Block, Koramangala</td>\n",
       "      <td>4.2</td>\n",
       "      <td>₹ 400</td>\n",
       "    </tr>\n",
       "  </tbody>\n",
       "</table>\n",
       "<p>118 rows × 5 columns</p>\n",
       "</div>"
      ],
      "text/plain": [
       "              Shop_Name                                            Cuisine  \\\n",
       "0          Kanti Sweets                                             Sweets   \n",
       "1         Mumbai Tiffin             North Indian, Home Food, Thalis, Combo   \n",
       "2     Sri Krishna sagar  South Indian, North Indian, Fast Food, Beverag...   \n",
       "3               Al Daaz  American, Arabian, Chinese, Desserts, Fast Foo...   \n",
       "4         Beijing Bites                                      Chinese, Thai   \n",
       "..                  ...                                                ...   \n",
       "113  Wok Paper Scissors                          Pan-Asian, Chinese, Asian   \n",
       "114  Savoury Restaurant  Arabian, Middle Eastern, North Indian, Grill, ...   \n",
       "115         Royal Treat            North Indian, Chinese, Seafood, Biryani   \n",
       "116            Thali 99                                       North Indian   \n",
       "117  Mani's Dum Biryani                                    Andhra, Biryani   \n",
       "\n",
       "                               Location Rating Cost_for_Two  \n",
       "0              Koramangala, Koramangala    4.3        ₹ 150  \n",
       "1                         Sector 5, HSR    4.4        ₹ 400  \n",
       "2                6th Block, Koramangala    4.1        ₹ 126  \n",
       "3                              HSR, HSR    4.4        ₹ 400  \n",
       "4                5th Block, Koramangala    4.1        ₹ 450  \n",
       "..                                  ...    ...          ...  \n",
       "113               JNC Road, Koramangala    3.9        ₹ 219  \n",
       "114                       Madiwala, BTM    4.1        ₹ 600  \n",
       "115  5th block Koramangala, Koramangala    4.2        ₹ 193  \n",
       "116            Koramangala, Koramangala    4.3        ₹ 200  \n",
       "117              1st Block, Koramangala    4.2        ₹ 400  \n",
       "\n",
       "[118 rows x 5 columns]"
      ]
     },
     "execution_count": 5,
     "metadata": {},
     "output_type": "execute_result"
    }
   ],
   "source": [
    "df=pd.read_csv(\"C:/Users/shiva/Desktop/Swiggy Bangalore Outlet Details.csv\",sep=',')\n",
    "x=df.copy()\n",
    "df"
   ]
  },
  {
   "cell_type": "code",
   "execution_count": 6,
   "id": "840a8c4c",
   "metadata": {},
   "outputs": [
    {
     "data": {
      "text/plain": [
       "Index(['Shop_Name', 'Cuisine', 'Location', 'Rating', 'Cost_for_Two'], dtype='object')"
      ]
     },
     "execution_count": 6,
     "metadata": {},
     "output_type": "execute_result"
    }
   ],
   "source": [
    "df.columns"
   ]
  },
  {
   "cell_type": "code",
   "execution_count": 6,
   "id": "5d71ecf2",
   "metadata": {},
   "outputs": [
    {
     "name": "stdout",
     "output_type": "stream",
     "text": [
      "<class 'pandas.core.frame.DataFrame'>\n",
      "RangeIndex: 118 entries, 0 to 117\n",
      "Data columns (total 5 columns):\n",
      " #   Column        Non-Null Count  Dtype \n",
      "---  ------        --------------  ----- \n",
      " 0   Shop_Name     118 non-null    object\n",
      " 1   Cuisine       118 non-null    object\n",
      " 2   Location      118 non-null    object\n",
      " 3   Rating        118 non-null    object\n",
      " 4   Cost_for_Two  118 non-null    object\n",
      "dtypes: object(5)\n",
      "memory usage: 4.7+ KB\n"
     ]
    }
   ],
   "source": [
    "df.info()"
   ]
  },
  {
   "cell_type": "code",
   "execution_count": 7,
   "id": "80b30aef",
   "metadata": {
    "scrolled": true
   },
   "outputs": [
    {
     "data": {
      "text/html": [
       "<div>\n",
       "<style scoped>\n",
       "    .dataframe tbody tr th:only-of-type {\n",
       "        vertical-align: middle;\n",
       "    }\n",
       "\n",
       "    .dataframe tbody tr th {\n",
       "        vertical-align: top;\n",
       "    }\n",
       "\n",
       "    .dataframe thead th {\n",
       "        text-align: right;\n",
       "    }\n",
       "</style>\n",
       "<table border=\"1\" class=\"dataframe\">\n",
       "  <thead>\n",
       "    <tr style=\"text-align: right;\">\n",
       "      <th></th>\n",
       "      <th>Shop_Name</th>\n",
       "      <th>Cuisine</th>\n",
       "      <th>Location</th>\n",
       "      <th>Rating</th>\n",
       "      <th>Cost_for_Two</th>\n",
       "    </tr>\n",
       "  </thead>\n",
       "  <tbody>\n",
       "    <tr>\n",
       "      <th>count</th>\n",
       "      <td>118</td>\n",
       "      <td>118</td>\n",
       "      <td>118</td>\n",
       "      <td>118</td>\n",
       "      <td>118</td>\n",
       "    </tr>\n",
       "    <tr>\n",
       "      <th>unique</th>\n",
       "      <td>115</td>\n",
       "      <td>79</td>\n",
       "      <td>65</td>\n",
       "      <td>13</td>\n",
       "      <td>30</td>\n",
       "    </tr>\n",
       "    <tr>\n",
       "      <th>top</th>\n",
       "      <td>La Pino'z Pizza</td>\n",
       "      <td>North Indian</td>\n",
       "      <td>BTM, BTM</td>\n",
       "      <td>4.1</td>\n",
       "      <td>₹ 300</td>\n",
       "    </tr>\n",
       "    <tr>\n",
       "      <th>freq</th>\n",
       "      <td>2</td>\n",
       "      <td>12</td>\n",
       "      <td>13</td>\n",
       "      <td>30</td>\n",
       "      <td>16</td>\n",
       "    </tr>\n",
       "  </tbody>\n",
       "</table>\n",
       "</div>"
      ],
      "text/plain": [
       "              Shop_Name       Cuisine  Location Rating Cost_for_Two\n",
       "count               118           118       118    118          118\n",
       "unique              115            79        65     13           30\n",
       "top     La Pino'z Pizza  North Indian  BTM, BTM    4.1        ₹ 300\n",
       "freq                  2            12        13     30           16"
      ]
     },
     "execution_count": 7,
     "metadata": {},
     "output_type": "execute_result"
    }
   ],
   "source": [
    "df.describe()"
   ]
  },
  {
   "cell_type": "code",
   "execution_count": 8,
   "id": "89680286",
   "metadata": {
    "scrolled": true
   },
   "outputs": [
    {
     "data": {
      "text/html": [
       "<div>\n",
       "<style scoped>\n",
       "    .dataframe tbody tr th:only-of-type {\n",
       "        vertical-align: middle;\n",
       "    }\n",
       "\n",
       "    .dataframe tbody tr th {\n",
       "        vertical-align: top;\n",
       "    }\n",
       "\n",
       "    .dataframe thead th {\n",
       "        text-align: right;\n",
       "    }\n",
       "</style>\n",
       "<table border=\"1\" class=\"dataframe\">\n",
       "  <thead>\n",
       "    <tr style=\"text-align: right;\">\n",
       "      <th></th>\n",
       "      <th>Shop_Name</th>\n",
       "      <th>Cuisine</th>\n",
       "      <th>Location</th>\n",
       "      <th>Rating</th>\n",
       "      <th>Cost_for_Two</th>\n",
       "    </tr>\n",
       "  </thead>\n",
       "  <tbody>\n",
       "    <tr>\n",
       "      <th>0</th>\n",
       "      <td>Kanti Sweets</td>\n",
       "      <td>Sweets</td>\n",
       "      <td>Koramangala, Koramangala</td>\n",
       "      <td>4.3</td>\n",
       "      <td>₹ 150</td>\n",
       "    </tr>\n",
       "    <tr>\n",
       "      <th>1</th>\n",
       "      <td>Mumbai Tiffin</td>\n",
       "      <td>North Indian, Home Food, Thalis, Combo</td>\n",
       "      <td>Sector 5, HSR</td>\n",
       "      <td>4.4</td>\n",
       "      <td>₹ 400</td>\n",
       "    </tr>\n",
       "    <tr>\n",
       "      <th>2</th>\n",
       "      <td>Sri Krishna sagar</td>\n",
       "      <td>South Indian, North Indian, Fast Food, Beverag...</td>\n",
       "      <td>6th Block, Koramangala</td>\n",
       "      <td>4.1</td>\n",
       "      <td>₹ 126</td>\n",
       "    </tr>\n",
       "    <tr>\n",
       "      <th>3</th>\n",
       "      <td>Al Daaz</td>\n",
       "      <td>American, Arabian, Chinese, Desserts, Fast Foo...</td>\n",
       "      <td>HSR, HSR</td>\n",
       "      <td>4.4</td>\n",
       "      <td>₹ 400</td>\n",
       "    </tr>\n",
       "    <tr>\n",
       "      <th>4</th>\n",
       "      <td>Beijing Bites</td>\n",
       "      <td>Chinese, Thai</td>\n",
       "      <td>5th Block, Koramangala</td>\n",
       "      <td>4.1</td>\n",
       "      <td>₹ 450</td>\n",
       "    </tr>\n",
       "  </tbody>\n",
       "</table>\n",
       "</div>"
      ],
      "text/plain": [
       "           Shop_Name                                            Cuisine  \\\n",
       "0       Kanti Sweets                                             Sweets   \n",
       "1      Mumbai Tiffin             North Indian, Home Food, Thalis, Combo   \n",
       "2  Sri Krishna sagar  South Indian, North Indian, Fast Food, Beverag...   \n",
       "3            Al Daaz  American, Arabian, Chinese, Desserts, Fast Foo...   \n",
       "4      Beijing Bites                                      Chinese, Thai   \n",
       "\n",
       "                   Location Rating Cost_for_Two  \n",
       "0  Koramangala, Koramangala    4.3        ₹ 150  \n",
       "1             Sector 5, HSR    4.4        ₹ 400  \n",
       "2    6th Block, Koramangala    4.1        ₹ 126  \n",
       "3                  HSR, HSR    4.4        ₹ 400  \n",
       "4    5th Block, Koramangala    4.1        ₹ 450  "
      ]
     },
     "execution_count": 8,
     "metadata": {},
     "output_type": "execute_result"
    }
   ],
   "source": [
    "df.head()"
   ]
  },
  {
   "cell_type": "markdown",
   "id": "3883664c",
   "metadata": {},
   "source": [
    "# Cleaning raw data"
   ]
  },
  {
   "cell_type": "code",
   "execution_count": 9,
   "id": "27abf8ff",
   "metadata": {
    "scrolled": true
   },
   "outputs": [
    {
     "data": {
      "text/plain": [
       "Shop_Name       0\n",
       "Cuisine         0\n",
       "Location        0\n",
       "Rating          0\n",
       "Cost_for_Two    0\n",
       "dtype: int64"
      ]
     },
     "execution_count": 9,
     "metadata": {},
     "output_type": "execute_result"
    }
   ],
   "source": [
    "df.isnull().sum()"
   ]
  },
  {
   "cell_type": "code",
   "execution_count": 10,
   "id": "33810cd0",
   "metadata": {},
   "outputs": [
    {
     "data": {
      "text/plain": [
       "0"
      ]
     },
     "execution_count": 10,
     "metadata": {},
     "output_type": "execute_result"
    }
   ],
   "source": [
    "len([i for i in df.columns if df[i].isnull().sum()>0])"
   ]
  },
  {
   "cell_type": "markdown",
   "id": "3309dc64",
   "metadata": {},
   "source": [
    "As we can observe there are no null values present inside the dataset"
   ]
  },
  {
   "cell_type": "code",
   "execution_count": 11,
   "id": "d60ab7d5",
   "metadata": {
    "scrolled": true
   },
   "outputs": [
    {
     "data": {
      "text/plain": [
       "array(['4.3', '4.4', '4.1', '4.2', '3.9', '3.8', '4', '3.7', '3.6', '4.8',\n",
       "       '4.5', '4.6', '--'], dtype=object)"
      ]
     },
     "execution_count": 11,
     "metadata": {},
     "output_type": "execute_result"
    }
   ],
   "source": [
    "df['Rating'].unique()"
   ]
  },
  {
   "cell_type": "code",
   "execution_count": 7,
   "id": "2cf37454",
   "metadata": {},
   "outputs": [],
   "source": [
    "df['Rating'] = df['Rating'].replace('--', '0').astype(float)"
   ]
  },
  {
   "cell_type": "code",
   "execution_count": 8,
   "id": "db5764f0",
   "metadata": {},
   "outputs": [
    {
     "data": {
      "text/plain": [
       "array([4.3, 4.4, 4.1, 4.2, 3.9, 3.8, 4. , 3.7, 3.6, 4.8, 4.5, 4.6, 0. ])"
      ]
     },
     "execution_count": 8,
     "metadata": {},
     "output_type": "execute_result"
    }
   ],
   "source": [
    "df['Rating'].unique()"
   ]
  },
  {
   "cell_type": "code",
   "execution_count": 9,
   "id": "791f3baa",
   "metadata": {},
   "outputs": [
    {
     "data": {
      "text/plain": [
       "0      4.3\n",
       "1      4.4\n",
       "2      4.1\n",
       "3      4.4\n",
       "4      4.1\n",
       "      ... \n",
       "113    3.9\n",
       "114    4.1\n",
       "115    4.2\n",
       "116    4.3\n",
       "117    4.2\n",
       "Name: Rating, Length: 118, dtype: float64"
      ]
     },
     "execution_count": 9,
     "metadata": {},
     "output_type": "execute_result"
    }
   ],
   "source": [
    "df['Rating'].astype('float')"
   ]
  },
  {
   "cell_type": "code",
   "execution_count": 15,
   "id": "eadbca16",
   "metadata": {
    "scrolled": true
   },
   "outputs": [
    {
     "data": {
      "text/plain": [
       "array(['₹ 150', '₹ 400', '₹ 126', '₹ 450', '₹ 350', '₹ 200', '₹ 500',\n",
       "       '₹ 247', '₹ 550', '₹ 300', '₹ 129', '₹ 250', '₹ 268', '₹ 600',\n",
       "       '₹ 527', '₹ 130', '₹ 257', '₹ 280', '₹ 399', '₹ 220', '₹ 800',\n",
       "       '₹ 100', '₹ 178', '₹ 120', '₹ 251', '₹ 650', '₹ 132', '₹ 153',\n",
       "       '₹ 219', '₹ 193'], dtype=object)"
      ]
     },
     "execution_count": 15,
     "metadata": {},
     "output_type": "execute_result"
    }
   ],
   "source": [
    "df['Cost_for_Two'].unique()"
   ]
  },
  {
   "cell_type": "code",
   "execution_count": 16,
   "id": "843c070a",
   "metadata": {
    "scrolled": false
   },
   "outputs": [
    {
     "data": {
      "text/plain": [
       "pandas.core.series.Series"
      ]
     },
     "execution_count": 16,
     "metadata": {},
     "output_type": "execute_result"
    }
   ],
   "source": [
    "type(df['Cost_for_Two'])"
   ]
  },
  {
   "cell_type": "code",
   "execution_count": 10,
   "id": "80e55aa3",
   "metadata": {},
   "outputs": [],
   "source": [
    "def data_processing(string):\n",
    "    cost = string.split(' ')[1]\n",
    "    return cost"
   ]
  },
  {
   "cell_type": "code",
   "execution_count": 11,
   "id": "5e950b16",
   "metadata": {},
   "outputs": [
    {
     "data": {
      "text/plain": [
       "0      150\n",
       "1      400\n",
       "2      126\n",
       "3      400\n",
       "4      450\n",
       "      ... \n",
       "113    219\n",
       "114    600\n",
       "115    193\n",
       "116    200\n",
       "117    400\n",
       "Name: Cost_for_Two, Length: 118, dtype: object"
      ]
     },
     "execution_count": 11,
     "metadata": {},
     "output_type": "execute_result"
    }
   ],
   "source": [
    "df['Cost_for_Two']=df['Cost_for_Two'].apply(data_processing)\n",
    "df['Cost_for_Two']"
   ]
  },
  {
   "cell_type": "code",
   "execution_count": 19,
   "id": "840c1885",
   "metadata": {},
   "outputs": [
    {
     "data": {
      "text/plain": [
       "pandas.core.series.Series"
      ]
     },
     "execution_count": 19,
     "metadata": {},
     "output_type": "execute_result"
    }
   ],
   "source": [
    "type(df['Cost_for_Two'])"
   ]
  },
  {
   "cell_type": "code",
   "execution_count": 12,
   "id": "130eb394",
   "metadata": {},
   "outputs": [
    {
     "data": {
      "text/plain": [
       "0      150\n",
       "1      400\n",
       "2      126\n",
       "3      400\n",
       "4      450\n",
       "      ... \n",
       "113    219\n",
       "114    600\n",
       "115    193\n",
       "116    200\n",
       "117    400\n",
       "Name: Cost_for_Two, Length: 118, dtype: int32"
      ]
     },
     "execution_count": 12,
     "metadata": {},
     "output_type": "execute_result"
    }
   ],
   "source": [
    "df['Cost_for_Two']=df['Cost_for_Two'].astype('int')\n",
    "df['Cost_for_Two']"
   ]
  },
  {
   "cell_type": "code",
   "execution_count": 21,
   "id": "9136ff6f",
   "metadata": {},
   "outputs": [
    {
     "data": {
      "text/plain": [
       "array([150, 400, 126, 450, 350, 200, 500, 247, 550, 300, 129, 250, 268,\n",
       "       600, 527, 130, 257, 280, 399, 220, 800, 100, 178, 120, 251, 650,\n",
       "       132, 153, 219, 193])"
      ]
     },
     "execution_count": 21,
     "metadata": {},
     "output_type": "execute_result"
    }
   ],
   "source": [
    "df['Cost_for_Two'].unique()"
   ]
  },
  {
   "cell_type": "code",
   "execution_count": 22,
   "id": "91e84fd3",
   "metadata": {
    "scrolled": true
   },
   "outputs": [
    {
     "name": "stdout",
     "output_type": "stream",
     "text": [
      "<class 'pandas.core.frame.DataFrame'>\n",
      "RangeIndex: 118 entries, 0 to 117\n",
      "Data columns (total 5 columns):\n",
      " #   Column        Non-Null Count  Dtype  \n",
      "---  ------        --------------  -----  \n",
      " 0   Shop_Name     118 non-null    object \n",
      " 1   Cuisine       118 non-null    object \n",
      " 2   Location      118 non-null    object \n",
      " 3   Rating        118 non-null    float64\n",
      " 4   Cost_for_Two  118 non-null    int32  \n",
      "dtypes: float64(1), int32(1), object(3)\n",
      "memory usage: 4.3+ KB\n"
     ]
    }
   ],
   "source": [
    "df.info()"
   ]
  },
  {
   "cell_type": "code",
   "execution_count": 24,
   "id": "f4903943",
   "metadata": {
    "scrolled": true
   },
   "outputs": [
    {
     "data": {
      "text/html": [
       "<div>\n",
       "<style scoped>\n",
       "    .dataframe tbody tr th:only-of-type {\n",
       "        vertical-align: middle;\n",
       "    }\n",
       "\n",
       "    .dataframe tbody tr th {\n",
       "        vertical-align: top;\n",
       "    }\n",
       "\n",
       "    .dataframe thead th {\n",
       "        text-align: right;\n",
       "    }\n",
       "</style>\n",
       "<table border=\"1\" class=\"dataframe\">\n",
       "  <thead>\n",
       "    <tr style=\"text-align: right;\">\n",
       "      <th></th>\n",
       "      <th>Rating</th>\n",
       "      <th>Cost_for_Two</th>\n",
       "    </tr>\n",
       "  </thead>\n",
       "  <tbody>\n",
       "    <tr>\n",
       "      <th>count</th>\n",
       "      <td>118.000000</td>\n",
       "      <td>118.000000</td>\n",
       "    </tr>\n",
       "    <tr>\n",
       "      <th>mean</th>\n",
       "      <td>4.061864</td>\n",
       "      <td>321.008475</td>\n",
       "    </tr>\n",
       "    <tr>\n",
       "      <th>std</th>\n",
       "      <td>0.430845</td>\n",
       "      <td>137.286804</td>\n",
       "    </tr>\n",
       "    <tr>\n",
       "      <th>min</th>\n",
       "      <td>0.000000</td>\n",
       "      <td>100.000000</td>\n",
       "    </tr>\n",
       "    <tr>\n",
       "      <th>25%</th>\n",
       "      <td>4.000000</td>\n",
       "      <td>204.750000</td>\n",
       "    </tr>\n",
       "    <tr>\n",
       "      <th>50%</th>\n",
       "      <td>4.100000</td>\n",
       "      <td>300.000000</td>\n",
       "    </tr>\n",
       "    <tr>\n",
       "      <th>75%</th>\n",
       "      <td>4.300000</td>\n",
       "      <td>400.000000</td>\n",
       "    </tr>\n",
       "    <tr>\n",
       "      <th>max</th>\n",
       "      <td>4.800000</td>\n",
       "      <td>800.000000</td>\n",
       "    </tr>\n",
       "  </tbody>\n",
       "</table>\n",
       "</div>"
      ],
      "text/plain": [
       "           Rating  Cost_for_Two\n",
       "count  118.000000    118.000000\n",
       "mean     4.061864    321.008475\n",
       "std      0.430845    137.286804\n",
       "min      0.000000    100.000000\n",
       "25%      4.000000    204.750000\n",
       "50%      4.100000    300.000000\n",
       "75%      4.300000    400.000000\n",
       "max      4.800000    800.000000"
      ]
     },
     "execution_count": 24,
     "metadata": {},
     "output_type": "execute_result"
    }
   ],
   "source": [
    "df.describe()"
   ]
  },
  {
   "cell_type": "markdown",
   "id": "f98b7c9d",
   "metadata": {},
   "source": [
    "# Resturant Analysis"
   ]
  },
  {
   "cell_type": "markdown",
   "id": "437c683c",
   "metadata": {},
   "source": [
    "### Resturants more than 4.0 Rating"
   ]
  },
  {
   "cell_type": "code",
   "execution_count": 50,
   "id": "ba603612",
   "metadata": {},
   "outputs": [
    {
     "data": {
      "text/html": [
       "<div>\n",
       "<style scoped>\n",
       "    .dataframe tbody tr th:only-of-type {\n",
       "        vertical-align: middle;\n",
       "    }\n",
       "\n",
       "    .dataframe tbody tr th {\n",
       "        vertical-align: top;\n",
       "    }\n",
       "\n",
       "    .dataframe thead th {\n",
       "        text-align: right;\n",
       "    }\n",
       "</style>\n",
       "<table border=\"1\" class=\"dataframe\">\n",
       "  <thead>\n",
       "    <tr style=\"text-align: right;\">\n",
       "      <th></th>\n",
       "      <th>Shop_Name</th>\n",
       "      <th>Rating</th>\n",
       "    </tr>\n",
       "  </thead>\n",
       "  <tbody>\n",
       "    <tr>\n",
       "      <th>78</th>\n",
       "      <td>Khichdi Experiment</td>\n",
       "      <td>4.8</td>\n",
       "    </tr>\n",
       "    <tr>\n",
       "      <th>82</th>\n",
       "      <td>Natural Ice Cream</td>\n",
       "      <td>4.6</td>\n",
       "    </tr>\n",
       "    <tr>\n",
       "      <th>94</th>\n",
       "      <td>Corner House Ice Cream</td>\n",
       "      <td>4.6</td>\n",
       "    </tr>\n",
       "    <tr>\n",
       "      <th>80</th>\n",
       "      <td>Chinese Bae</td>\n",
       "      <td>4.5</td>\n",
       "    </tr>\n",
       "    <tr>\n",
       "      <th>1</th>\n",
       "      <td>Mumbai Tiffin</td>\n",
       "      <td>4.4</td>\n",
       "    </tr>\n",
       "    <tr>\n",
       "      <th>...</th>\n",
       "      <td>...</td>\n",
       "      <td>...</td>\n",
       "    </tr>\n",
       "    <tr>\n",
       "      <th>44</th>\n",
       "      <td>Svadu Pure Ghee Sweets</td>\n",
       "      <td>4.1</td>\n",
       "    </tr>\n",
       "    <tr>\n",
       "      <th>62</th>\n",
       "      <td>Biryanis and more</td>\n",
       "      <td>4.1</td>\n",
       "    </tr>\n",
       "    <tr>\n",
       "      <th>60</th>\n",
       "      <td>calicut cafe restaurant</td>\n",
       "      <td>4.1</td>\n",
       "    </tr>\n",
       "    <tr>\n",
       "      <th>49</th>\n",
       "      <td>Balaji's Veg</td>\n",
       "      <td>4.1</td>\n",
       "    </tr>\n",
       "    <tr>\n",
       "      <th>53</th>\n",
       "      <td>Donne Biryani House</td>\n",
       "      <td>4.1</td>\n",
       "    </tr>\n",
       "  </tbody>\n",
       "</table>\n",
       "<p>71 rows × 2 columns</p>\n",
       "</div>"
      ],
      "text/plain": [
       "                  Shop_Name  Rating\n",
       "78       Khichdi Experiment     4.8\n",
       "82        Natural Ice Cream     4.6\n",
       "94   Corner House Ice Cream     4.6\n",
       "80              Chinese Bae     4.5\n",
       "1             Mumbai Tiffin     4.4\n",
       "..                      ...     ...\n",
       "44   Svadu Pure Ghee Sweets     4.1\n",
       "62        Biryanis and more     4.1\n",
       "60  calicut cafe restaurant     4.1\n",
       "49             Balaji's Veg     4.1\n",
       "53      Donne Biryani House     4.1\n",
       "\n",
       "[71 rows x 2 columns]"
      ]
     },
     "execution_count": 50,
     "metadata": {},
     "output_type": "execute_result"
    }
   ],
   "source": [
    "df1=df[['Shop_Name','Rating']][df['Rating']>4.0].sort_values(by='Rating',ascending=False)\n",
    "df1"
   ]
  },
  {
   "cell_type": "markdown",
   "id": "b5a28d3e",
   "metadata": {},
   "source": [
    "### Top 10 resturants on the basis of ratings"
   ]
  },
  {
   "cell_type": "code",
   "execution_count": 55,
   "id": "209a0608",
   "metadata": {
    "scrolled": true
   },
   "outputs": [
    {
     "data": {
      "text/html": [
       "<div>\n",
       "<style scoped>\n",
       "    .dataframe tbody tr th:only-of-type {\n",
       "        vertical-align: middle;\n",
       "    }\n",
       "\n",
       "    .dataframe tbody tr th {\n",
       "        vertical-align: top;\n",
       "    }\n",
       "\n",
       "    .dataframe thead th {\n",
       "        text-align: right;\n",
       "    }\n",
       "</style>\n",
       "<table border=\"1\" class=\"dataframe\">\n",
       "  <thead>\n",
       "    <tr style=\"text-align: right;\">\n",
       "      <th></th>\n",
       "      <th>Shop_Name</th>\n",
       "      <th>Rating</th>\n",
       "    </tr>\n",
       "  </thead>\n",
       "  <tbody>\n",
       "    <tr>\n",
       "      <th>78</th>\n",
       "      <td>Khichdi Experiment</td>\n",
       "      <td>4.8</td>\n",
       "    </tr>\n",
       "    <tr>\n",
       "      <th>82</th>\n",
       "      <td>Natural Ice Cream</td>\n",
       "      <td>4.6</td>\n",
       "    </tr>\n",
       "    <tr>\n",
       "      <th>94</th>\n",
       "      <td>Corner House Ice Cream</td>\n",
       "      <td>4.6</td>\n",
       "    </tr>\n",
       "    <tr>\n",
       "      <th>80</th>\n",
       "      <td>Chinese Bae</td>\n",
       "      <td>4.5</td>\n",
       "    </tr>\n",
       "    <tr>\n",
       "      <th>1</th>\n",
       "      <td>Mumbai Tiffin</td>\n",
       "      <td>4.4</td>\n",
       "    </tr>\n",
       "    <tr>\n",
       "      <th>3</th>\n",
       "      <td>Al Daaz</td>\n",
       "      <td>4.4</td>\n",
       "    </tr>\n",
       "    <tr>\n",
       "      <th>48</th>\n",
       "      <td>China Pearl</td>\n",
       "      <td>4.4</td>\n",
       "    </tr>\n",
       "    <tr>\n",
       "      <th>111</th>\n",
       "      <td>Bowl 99</td>\n",
       "      <td>4.4</td>\n",
       "    </tr>\n",
       "    <tr>\n",
       "      <th>72</th>\n",
       "      <td>Nagarjuna</td>\n",
       "      <td>4.3</td>\n",
       "    </tr>\n",
       "    <tr>\n",
       "      <th>33</th>\n",
       "      <td>Oottupura</td>\n",
       "      <td>4.3</td>\n",
       "    </tr>\n",
       "  </tbody>\n",
       "</table>\n",
       "</div>"
      ],
      "text/plain": [
       "                  Shop_Name  Rating\n",
       "78       Khichdi Experiment     4.8\n",
       "82        Natural Ice Cream     4.6\n",
       "94   Corner House Ice Cream     4.6\n",
       "80              Chinese Bae     4.5\n",
       "1             Mumbai Tiffin     4.4\n",
       "3                   Al Daaz     4.4\n",
       "48              China Pearl     4.4\n",
       "111                 Bowl 99     4.4\n",
       "72                Nagarjuna     4.3\n",
       "33                Oottupura     4.3"
      ]
     },
     "execution_count": 55,
     "metadata": {},
     "output_type": "execute_result"
    }
   ],
   "source": [
    "df1.head(10)"
   ]
  },
  {
   "cell_type": "markdown",
   "id": "c9bd7743",
   "metadata": {},
   "source": [
    "### Distribution of ratings"
   ]
  },
  {
   "cell_type": "code",
   "execution_count": 70,
   "id": "242fc639",
   "metadata": {},
   "outputs": [
    {
     "data": {
      "text/plain": [
       "0.0     1\n",
       "4.8     1\n",
       "4.5     1\n",
       "4.6     2\n",
       "3.6     2\n",
       "3.8     4\n",
       "4.4     4\n",
       "3.7     6\n",
       "4.2    10\n",
       "3.9    13\n",
       "4.0    21\n",
       "4.3    23\n",
       "4.1    30\n",
       "Name: Rating, dtype: int64"
      ]
     },
     "execution_count": 70,
     "metadata": {},
     "output_type": "execute_result"
    }
   ],
   "source": [
    "df['Rating'].value_counts().sort_values()"
   ]
  },
  {
   "cell_type": "code",
   "execution_count": 119,
   "id": "5c842e4c",
   "metadata": {},
   "outputs": [
    {
     "data": {
      "text/plain": [
       "<seaborn.axisgrid.FacetGrid at 0x1aeae395fa0>"
      ]
     },
     "execution_count": 119,
     "metadata": {},
     "output_type": "execute_result"
    },
    {
     "data": {
      "image/png": "[encoded data removed]",
      "text/plain": [
       "<Figure size 360x360 with 1 Axes>"
      ]
     },
     "metadata": {
      "needs_background": "light"
     },
     "output_type": "display_data"
    }
   ],
   "source": [
    "df1=df['Rating'].sort_values()\n",
    "sns.displot(df1,color='pink')"
   ]
  },
  {
   "cell_type": "markdown",
   "id": "6f36950c",
   "metadata": {},
   "source": [
    "Observation: Most resturants are rated more than 3.5 "
   ]
  },
  {
   "cell_type": "markdown",
   "id": "93e0618d",
   "metadata": {},
   "source": [
    "# Area wise analysis"
   ]
  },
  {
   "cell_type": "code",
   "execution_count": 74,
   "id": "0b29cd50",
   "metadata": {
    "scrolled": true
   },
   "outputs": [
    {
     "data": {
      "text/plain": [
       "array(['Koramangala, Koramangala', 'Sector 5, HSR',\n",
       "       '6th Block, Koramangala', 'HSR, HSR', '5th Block, Koramangala',\n",
       "       'Koramangala 4th  Block, Koramangala', 'BTM 2nd Stage, BTM',\n",
       "       'BTM, BTM', '9th Main road, Koramangala', 'outer ring road, BTM',\n",
       "       '7th Block, Koramangala', '1st MAin, Koramangala',\n",
       "       'Bommanahalli, BTM', '6th block, Koramangala', 'Sector 4, HSR',\n",
       "       'BTM 1st stage, BTM', 'Jakkasandra Extn, Koramangala',\n",
       "       'Marutinagar Main Road, BTM', '1st Block, Koramangala',\n",
       "       '4th Cross, BTM', 'koramangala, Koramangala', 'BTM 2nd stage, BTM',\n",
       "       '3rd main, BTM', 'HSR 1st sector, HSR', 'Sector 7, HSR',\n",
       "       '3rd Sector, HSR', 'Chocolate Factory Road, BTM',\n",
       "       '16th Main Road, 2nd Stage, BTM', '1st Stage, BTM',\n",
       "       'Hosur Main Road, Koramangala',\n",
       "       '1st Cross Road, 5th Block, Near Jyothi Nivas College, Koramangala',\n",
       "       'Mico Layout, BTM', '4th Cross, Koramangala',\n",
       "       '4th Block, Koramangala', 'Intermediate Ring Road, Koramangala',\n",
       "       '3rd sector, HSR', '8TH BLOCK, Koramangala',\n",
       "       '4th b cross, Koramangala', 'SG palaya, BTM',\n",
       "       \"Venkatapura Main Rd, Teacher's Colony, Jakkasandra, HSR\",\n",
       "       'KHB Colony, Koramangala', 'Sector 3, HSR',\n",
       "       'Bannerghatta Road, Jayanagar',\n",
       "       '80 Feet Peripheral Road, Koramangala', 'Btm, BTM',\n",
       "       'Near Wipro Park Signal, Koramangala', '16th Main Road, BTM',\n",
       "       '2nd Stage, BTM', 'Kuvempu Nagar, Stage 2, BTM',\n",
       "       'Koramangala 1st block, Koramangala',\n",
       "       '5th Block Kormangala, Koramangala', 'Koramangla, Koramangala',\n",
       "       '5th block, Koramangala', '9th Main Rd, Sector 6, HSR Layout, HSR',\n",
       "       'Jay Bheema Nagar, BTM', 'Koramangala 6th block, Koramangala',\n",
       "       'Maruthi Nagar, BTM', 'Sector 6, HSR',\n",
       "       'Jakkasandra Village, Koramangala', '4th block, Koramangala',\n",
       "       'Madiwala Junction, BTM', 'kormangala, Koramangala',\n",
       "       'JNC Road, Koramangala', 'Madiwala, BTM',\n",
       "       '5th block Koramangala, Koramangala'], dtype=object)"
      ]
     },
     "execution_count": 74,
     "metadata": {},
     "output_type": "execute_result"
    }
   ],
   "source": [
    "df['Location'].unique()"
   ]
  },
  {
   "cell_type": "markdown",
   "id": "1515cfd2",
   "metadata": {},
   "source": [
    "### Koramangla area"
   ]
  },
  {
   "cell_type": "code",
   "execution_count": 77,
   "id": "9b54e55f",
   "metadata": {},
   "outputs": [
    {
     "data": {
      "text/html": [
       "<div>\n",
       "<style scoped>\n",
       "    .dataframe tbody tr th:only-of-type {\n",
       "        vertical-align: middle;\n",
       "    }\n",
       "\n",
       "    .dataframe tbody tr th {\n",
       "        vertical-align: top;\n",
       "    }\n",
       "\n",
       "    .dataframe thead th {\n",
       "        text-align: right;\n",
       "    }\n",
       "</style>\n",
       "<table border=\"1\" class=\"dataframe\">\n",
       "  <thead>\n",
       "    <tr style=\"text-align: right;\">\n",
       "      <th></th>\n",
       "      <th>Shop_Name</th>\n",
       "      <th>Cuisine</th>\n",
       "      <th>Location</th>\n",
       "      <th>Rating</th>\n",
       "      <th>Cost_for_Two</th>\n",
       "    </tr>\n",
       "  </thead>\n",
       "  <tbody>\n",
       "    <tr>\n",
       "      <th>0</th>\n",
       "      <td>Kanti Sweets</td>\n",
       "      <td>Sweets</td>\n",
       "      <td>Koramangala, Koramangala</td>\n",
       "      <td>4.3</td>\n",
       "      <td>150</td>\n",
       "    </tr>\n",
       "    <tr>\n",
       "      <th>2</th>\n",
       "      <td>Sri Krishna sagar</td>\n",
       "      <td>South Indian, North Indian, Fast Food, Beverag...</td>\n",
       "      <td>6th Block, Koramangala</td>\n",
       "      <td>4.1</td>\n",
       "      <td>126</td>\n",
       "    </tr>\n",
       "    <tr>\n",
       "      <th>4</th>\n",
       "      <td>Beijing Bites</td>\n",
       "      <td>Chinese, Thai</td>\n",
       "      <td>5th Block, Koramangala</td>\n",
       "      <td>4.1</td>\n",
       "      <td>450</td>\n",
       "    </tr>\n",
       "    <tr>\n",
       "      <th>5</th>\n",
       "      <td>Kitchens of Punjab</td>\n",
       "      <td>North Indian</td>\n",
       "      <td>Koramangala 4th  Block, Koramangala</td>\n",
       "      <td>4.2</td>\n",
       "      <td>350</td>\n",
       "    </tr>\n",
       "    <tr>\n",
       "      <th>9</th>\n",
       "      <td>Yumlane Pizza</td>\n",
       "      <td>Pizzas, Italian, Mexican</td>\n",
       "      <td>9th Main road, Koramangala</td>\n",
       "      <td>3.8</td>\n",
       "      <td>150</td>\n",
       "    </tr>\n",
       "    <tr>\n",
       "      <th>...</th>\n",
       "      <td>...</td>\n",
       "      <td>...</td>\n",
       "      <td>...</td>\n",
       "      <td>...</td>\n",
       "      <td>...</td>\n",
       "    </tr>\n",
       "    <tr>\n",
       "      <th>112</th>\n",
       "      <td>Kritunga</td>\n",
       "      <td>Andhra, Biryani</td>\n",
       "      <td>5th Block, Koramangala</td>\n",
       "      <td>3.9</td>\n",
       "      <td>500</td>\n",
       "    </tr>\n",
       "    <tr>\n",
       "      <th>113</th>\n",
       "      <td>Wok Paper Scissors</td>\n",
       "      <td>Pan-Asian, Chinese, Asian</td>\n",
       "      <td>JNC Road, Koramangala</td>\n",
       "      <td>3.9</td>\n",
       "      <td>219</td>\n",
       "    </tr>\n",
       "    <tr>\n",
       "      <th>115</th>\n",
       "      <td>Royal Treat</td>\n",
       "      <td>North Indian, Chinese, Seafood, Biryani</td>\n",
       "      <td>5th block Koramangala, Koramangala</td>\n",
       "      <td>4.2</td>\n",
       "      <td>193</td>\n",
       "    </tr>\n",
       "    <tr>\n",
       "      <th>116</th>\n",
       "      <td>Thali 99</td>\n",
       "      <td>North Indian</td>\n",
       "      <td>Koramangala, Koramangala</td>\n",
       "      <td>4.3</td>\n",
       "      <td>200</td>\n",
       "    </tr>\n",
       "    <tr>\n",
       "      <th>117</th>\n",
       "      <td>Mani's Dum Biryani</td>\n",
       "      <td>Andhra, Biryani</td>\n",
       "      <td>1st Block, Koramangala</td>\n",
       "      <td>4.2</td>\n",
       "      <td>400</td>\n",
       "    </tr>\n",
       "  </tbody>\n",
       "</table>\n",
       "<p>64 rows × 5 columns</p>\n",
       "</div>"
      ],
      "text/plain": [
       "              Shop_Name                                            Cuisine  \\\n",
       "0          Kanti Sweets                                             Sweets   \n",
       "2     Sri Krishna sagar  South Indian, North Indian, Fast Food, Beverag...   \n",
       "4         Beijing Bites                                      Chinese, Thai   \n",
       "5    Kitchens of Punjab                                       North Indian   \n",
       "9         Yumlane Pizza                           Pizzas, Italian, Mexican   \n",
       "..                  ...                                                ...   \n",
       "112            Kritunga                                    Andhra, Biryani   \n",
       "113  Wok Paper Scissors                          Pan-Asian, Chinese, Asian   \n",
       "115         Royal Treat            North Indian, Chinese, Seafood, Biryani   \n",
       "116            Thali 99                                       North Indian   \n",
       "117  Mani's Dum Biryani                                    Andhra, Biryani   \n",
       "\n",
       "                                Location  Rating  Cost_for_Two  \n",
       "0               Koramangala, Koramangala     4.3           150  \n",
       "2                 6th Block, Koramangala     4.1           126  \n",
       "4                 5th Block, Koramangala     4.1           450  \n",
       "5    Koramangala 4th  Block, Koramangala     4.2           350  \n",
       "9             9th Main road, Koramangala     3.8           150  \n",
       "..                                   ...     ...           ...  \n",
       "112               5th Block, Koramangala     3.9           500  \n",
       "113                JNC Road, Koramangala     3.9           219  \n",
       "115   5th block Koramangala, Koramangala     4.2           193  \n",
       "116             Koramangala, Koramangala     4.3           200  \n",
       "117               1st Block, Koramangala     4.2           400  \n",
       "\n",
       "[64 rows x 5 columns]"
      ]
     },
     "execution_count": 77,
     "metadata": {},
     "output_type": "execute_result"
    }
   ],
   "source": [
    "df_kora=df[df['Location'].str.contains('Koramangala')]\n",
    "df_kora"
   ]
  },
  {
   "cell_type": "code",
   "execution_count": 85,
   "id": "5621a6a4",
   "metadata": {},
   "outputs": [
    {
     "data": {
      "text/plain": [
       "<AxesSubplot:xlabel='Rating', ylabel='Count'>"
      ]
     },
     "execution_count": 85,
     "metadata": {},
     "output_type": "execute_result"
    },
    {
     "data": {
      "image/png": "[encoded data removed]",
      "text/plain": [
       "<Figure size 432x288 with 1 Axes>"
      ]
     },
     "metadata": {
      "needs_background": "light"
     },
     "output_type": "display_data"
    }
   ],
   "source": [
    "sns.histplot(df_kora['Rating'])"
   ]
  },
  {
   "cell_type": "code",
   "execution_count": 86,
   "id": "e8d11d22",
   "metadata": {},
   "outputs": [
    {
     "data": {
      "text/plain": [
       "<AxesSubplot:xlabel='Cost_for_Two', ylabel='Count'>"
      ]
     },
     "execution_count": 86,
     "metadata": {},
     "output_type": "execute_result"
    },
    {
     "data": {
      "image/png": "[encoded data removed]",
      "text/plain": [
       "<Figure size 432x288 with 1 Axes>"
      ]
     },
     "metadata": {
      "needs_background": "light"
     },
     "output_type": "display_data"
    }
   ],
   "source": [
    "sns.histplot(df_kora['Cost_for_Two'])"
   ]
  },
  {
   "cell_type": "markdown",
   "id": "080d423c",
   "metadata": {},
   "source": [
    "Observations:\n",
    "\n",
    "1.Ratings in koramangla is mostly between 4.0 to 4.4\n",
    "\n",
    "2.Cost for two in Koramangla is mostly between 100 to 450 rupees"
   ]
  },
  {
   "cell_type": "markdown",
   "id": "23b08d5c",
   "metadata": {},
   "source": [
    "### BTM Area"
   ]
  },
  {
   "cell_type": "code",
   "execution_count": 87,
   "id": "9acc023a",
   "metadata": {
    "scrolled": true
   },
   "outputs": [
    {
     "data": {
      "text/html": [
       "<div>\n",
       "<style scoped>\n",
       "    .dataframe tbody tr th:only-of-type {\n",
       "        vertical-align: middle;\n",
       "    }\n",
       "\n",
       "    .dataframe tbody tr th {\n",
       "        vertical-align: top;\n",
       "    }\n",
       "\n",
       "    .dataframe thead th {\n",
       "        text-align: right;\n",
       "    }\n",
       "</style>\n",
       "<table border=\"1\" class=\"dataframe\">\n",
       "  <thead>\n",
       "    <tr style=\"text-align: right;\">\n",
       "      <th></th>\n",
       "      <th>Shop_Name</th>\n",
       "      <th>Cuisine</th>\n",
       "      <th>Location</th>\n",
       "      <th>Rating</th>\n",
       "      <th>Cost_for_Two</th>\n",
       "    </tr>\n",
       "  </thead>\n",
       "  <tbody>\n",
       "    <tr>\n",
       "      <th>6</th>\n",
       "      <td>99 VARIETY DOSA AND PAV BHAJI- Malli Mane Food...</td>\n",
       "      <td>Fast Food, North Indian, Chinese</td>\n",
       "      <td>BTM 2nd Stage, BTM</td>\n",
       "      <td>4.1</td>\n",
       "      <td>200</td>\n",
       "    </tr>\n",
       "    <tr>\n",
       "      <th>7</th>\n",
       "      <td>La Pino'z Pizza</td>\n",
       "      <td>Italian</td>\n",
       "      <td>BTM, BTM</td>\n",
       "      <td>3.9</td>\n",
       "      <td>500</td>\n",
       "    </tr>\n",
       "    <tr>\n",
       "      <th>10</th>\n",
       "      <td>Ambur Star Briyani</td>\n",
       "      <td>Chinese, South Indian, North Indian, Desserts,...</td>\n",
       "      <td>outer ring road, BTM</td>\n",
       "      <td>4.1</td>\n",
       "      <td>500</td>\n",
       "    </tr>\n",
       "    <tr>\n",
       "      <th>17</th>\n",
       "      <td>Sri Lakshmi Dhaba</td>\n",
       "      <td>North Indian</td>\n",
       "      <td>Bommanahalli, BTM</td>\n",
       "      <td>3.7</td>\n",
       "      <td>200</td>\n",
       "    </tr>\n",
       "    <tr>\n",
       "      <th>20</th>\n",
       "      <td>Just Bake - Cakes &amp; confectioners</td>\n",
       "      <td>Desserts, Bakery</td>\n",
       "      <td>BTM 1st stage, BTM</td>\n",
       "      <td>4.3</td>\n",
       "      <td>300</td>\n",
       "    </tr>\n",
       "    <tr>\n",
       "      <th>22</th>\n",
       "      <td>Hotel Godavari</td>\n",
       "      <td>North Indian, Chinese, Hyderabadi</td>\n",
       "      <td>Marutinagar Main Road, BTM</td>\n",
       "      <td>4.0</td>\n",
       "      <td>400</td>\n",
       "    </tr>\n",
       "    <tr>\n",
       "      <th>25</th>\n",
       "      <td>Swad Punjab da</td>\n",
       "      <td>Indian</td>\n",
       "      <td>BTM, BTM</td>\n",
       "      <td>4.1</td>\n",
       "      <td>250</td>\n",
       "    </tr>\n",
       "    <tr>\n",
       "      <th>27</th>\n",
       "      <td>High N Hungry</td>\n",
       "      <td>Andhra, Biryani, Chinese, Desserts, Fast Food,...</td>\n",
       "      <td>4th Cross, BTM</td>\n",
       "      <td>4.1</td>\n",
       "      <td>350</td>\n",
       "    </tr>\n",
       "    <tr>\n",
       "      <th>31</th>\n",
       "      <td>Bengali Fun Foods</td>\n",
       "      <td>North Indian</td>\n",
       "      <td>BTM 2nd stage, BTM</td>\n",
       "      <td>4.2</td>\n",
       "      <td>300</td>\n",
       "    </tr>\n",
       "    <tr>\n",
       "      <th>33</th>\n",
       "      <td>Oottupura</td>\n",
       "      <td>Kerala, South Indian</td>\n",
       "      <td>BTM, BTM</td>\n",
       "      <td>4.3</td>\n",
       "      <td>268</td>\n",
       "    </tr>\n",
       "    <tr>\n",
       "      <th>35</th>\n",
       "      <td>Hyderabadi Biryani Hub</td>\n",
       "      <td>North Indian, Chinese, Biryani</td>\n",
       "      <td>3rd main, BTM</td>\n",
       "      <td>3.9</td>\n",
       "      <td>450</td>\n",
       "    </tr>\n",
       "    <tr>\n",
       "      <th>40</th>\n",
       "      <td>Venu's Donne Biryani</td>\n",
       "      <td>Biryani</td>\n",
       "      <td>Chocolate Factory Road, BTM</td>\n",
       "      <td>4.3</td>\n",
       "      <td>300</td>\n",
       "    </tr>\n",
       "    <tr>\n",
       "      <th>42</th>\n",
       "      <td>Swadista Aahar</td>\n",
       "      <td>South Indian, Snacks, North Indian, Chinese</td>\n",
       "      <td>16th Main Road, 2nd Stage, BTM</td>\n",
       "      <td>4.1</td>\n",
       "      <td>250</td>\n",
       "    </tr>\n",
       "    <tr>\n",
       "      <th>44</th>\n",
       "      <td>Svadu Pure Ghee Sweets</td>\n",
       "      <td>Desserts, Fast Food, Sweets, Chaat</td>\n",
       "      <td>1st Stage, BTM</td>\n",
       "      <td>4.1</td>\n",
       "      <td>200</td>\n",
       "    </tr>\n",
       "    <tr>\n",
       "      <th>45</th>\n",
       "      <td>Sai Abhiruchi</td>\n",
       "      <td>Chinese, South Indian, Andhra, Hyderabadi</td>\n",
       "      <td>BTM, BTM</td>\n",
       "      <td>3.7</td>\n",
       "      <td>250</td>\n",
       "    </tr>\n",
       "    <tr>\n",
       "      <th>49</th>\n",
       "      <td>Balaji's Veg</td>\n",
       "      <td>North Indian, Chinese, South Indian</td>\n",
       "      <td>Mico Layout, BTM</td>\n",
       "      <td>4.1</td>\n",
       "      <td>300</td>\n",
       "    </tr>\n",
       "    <tr>\n",
       "      <th>51</th>\n",
       "      <td>Donne Biryani Mandi</td>\n",
       "      <td>Biryani, Andhra, South Indian</td>\n",
       "      <td>BTM, BTM</td>\n",
       "      <td>4.0</td>\n",
       "      <td>150</td>\n",
       "    </tr>\n",
       "    <tr>\n",
       "      <th>60</th>\n",
       "      <td>calicut cafe restaurant</td>\n",
       "      <td>Fast Food, Beverages</td>\n",
       "      <td>BTM, BTM</td>\n",
       "      <td>4.1</td>\n",
       "      <td>280</td>\n",
       "    </tr>\n",
       "    <tr>\n",
       "      <th>65</th>\n",
       "      <td>World of asia</td>\n",
       "      <td>Beverages, Chinese</td>\n",
       "      <td>BTM, BTM</td>\n",
       "      <td>4.0</td>\n",
       "      <td>250</td>\n",
       "    </tr>\n",
       "    <tr>\n",
       "      <th>66</th>\n",
       "      <td>Ghar Ka Khana</td>\n",
       "      <td>North Indian</td>\n",
       "      <td>BTM, BTM</td>\n",
       "      <td>4.2</td>\n",
       "      <td>220</td>\n",
       "    </tr>\n",
       "    <tr>\n",
       "      <th>68</th>\n",
       "      <td>KANNUR FOOD POINT</td>\n",
       "      <td>Kerala, Chinese</td>\n",
       "      <td>SG palaya, BTM</td>\n",
       "      <td>3.9</td>\n",
       "      <td>300</td>\n",
       "    </tr>\n",
       "    <tr>\n",
       "      <th>69</th>\n",
       "      <td>KANNOOR RESTAURANT</td>\n",
       "      <td>North Indian, Chinese</td>\n",
       "      <td>BTM, BTM</td>\n",
       "      <td>4.0</td>\n",
       "      <td>250</td>\n",
       "    </tr>\n",
       "    <tr>\n",
       "      <th>70</th>\n",
       "      <td>Fattoush</td>\n",
       "      <td>Arabian, Beverages, Biryani, Chinese, Desserts...</td>\n",
       "      <td>BTM, BTM</td>\n",
       "      <td>3.9</td>\n",
       "      <td>400</td>\n",
       "    </tr>\n",
       "    <tr>\n",
       "      <th>76</th>\n",
       "      <td>BIRIYANI TASTE MASTH(BTM)</td>\n",
       "      <td>North Indian, South Indian</td>\n",
       "      <td>Btm, BTM</td>\n",
       "      <td>4.2</td>\n",
       "      <td>300</td>\n",
       "    </tr>\n",
       "    <tr>\n",
       "      <th>79</th>\n",
       "      <td>Tandoori Merchant</td>\n",
       "      <td>Andhra, Biryani, Chinese, Desserts, Fast Food,...</td>\n",
       "      <td>4th Cross, BTM</td>\n",
       "      <td>4.2</td>\n",
       "      <td>100</td>\n",
       "    </tr>\n",
       "    <tr>\n",
       "      <th>80</th>\n",
       "      <td>Chinese Bae</td>\n",
       "      <td>Chinese, Thai</td>\n",
       "      <td>BTM, BTM</td>\n",
       "      <td>4.5</td>\n",
       "      <td>450</td>\n",
       "    </tr>\n",
       "    <tr>\n",
       "      <th>83</th>\n",
       "      <td>Abhiruchi Hotel</td>\n",
       "      <td>Chinese, Hyderabadi, Biryani, Indian, South In...</td>\n",
       "      <td>BTM, BTM</td>\n",
       "      <td>4.0</td>\n",
       "      <td>250</td>\n",
       "    </tr>\n",
       "    <tr>\n",
       "      <th>84</th>\n",
       "      <td>Punjabi Swag</td>\n",
       "      <td>Punjabi, North Indian, Chinese, Fast Food, Hea...</td>\n",
       "      <td>16th Main Road, BTM</td>\n",
       "      <td>3.7</td>\n",
       "      <td>400</td>\n",
       "    </tr>\n",
       "    <tr>\n",
       "      <th>86</th>\n",
       "      <td>Gyaani Da Punjabi Dhaba</td>\n",
       "      <td>North Indian</td>\n",
       "      <td>2nd Stage, BTM</td>\n",
       "      <td>4.0</td>\n",
       "      <td>500</td>\n",
       "    </tr>\n",
       "    <tr>\n",
       "      <th>87</th>\n",
       "      <td>Biriyani Bhatti</td>\n",
       "      <td>Biryani, Hyderabadi, Andhra, North Indian, Sou...</td>\n",
       "      <td>Kuvempu Nagar, Stage 2, BTM</td>\n",
       "      <td>4.1</td>\n",
       "      <td>350</td>\n",
       "    </tr>\n",
       "    <tr>\n",
       "      <th>92</th>\n",
       "      <td>BIRYANI CRAFTS</td>\n",
       "      <td>Indian</td>\n",
       "      <td>BTM, BTM</td>\n",
       "      <td>4.1</td>\n",
       "      <td>500</td>\n",
       "    </tr>\n",
       "    <tr>\n",
       "      <th>104</th>\n",
       "      <td>R.B Food Point</td>\n",
       "      <td>Chinese, North Indian</td>\n",
       "      <td>Jay Bheema Nagar, BTM</td>\n",
       "      <td>3.7</td>\n",
       "      <td>350</td>\n",
       "    </tr>\n",
       "    <tr>\n",
       "      <th>106</th>\n",
       "      <td>New Tasty Cafeteria</td>\n",
       "      <td>Andhra, Chettinad, Chinese, Mughlai, North Indian</td>\n",
       "      <td>Maruthi Nagar, BTM</td>\n",
       "      <td>4.0</td>\n",
       "      <td>350</td>\n",
       "    </tr>\n",
       "    <tr>\n",
       "      <th>110</th>\n",
       "      <td>Biryani Pot</td>\n",
       "      <td>North Indian, Biryani</td>\n",
       "      <td>Madiwala Junction, BTM</td>\n",
       "      <td>4.0</td>\n",
       "      <td>500</td>\n",
       "    </tr>\n",
       "    <tr>\n",
       "      <th>114</th>\n",
       "      <td>Savoury Restaurant</td>\n",
       "      <td>Arabian, Middle Eastern, North Indian, Grill, ...</td>\n",
       "      <td>Madiwala, BTM</td>\n",
       "      <td>4.1</td>\n",
       "      <td>600</td>\n",
       "    </tr>\n",
       "  </tbody>\n",
       "</table>\n",
       "</div>"
      ],
      "text/plain": [
       "                                             Shop_Name  \\\n",
       "6    99 VARIETY DOSA AND PAV BHAJI- Malli Mane Food...   \n",
       "7                                      La Pino'z Pizza   \n",
       "10                                  Ambur Star Briyani   \n",
       "17                                   Sri Lakshmi Dhaba   \n",
       "20                   Just Bake - Cakes & confectioners   \n",
       "22                                      Hotel Godavari   \n",
       "25                                      Swad Punjab da   \n",
       "27                                       High N Hungry   \n",
       "31                                   Bengali Fun Foods   \n",
       "33                                           Oottupura   \n",
       "35                              Hyderabadi Biryani Hub   \n",
       "40                                Venu's Donne Biryani   \n",
       "42                                      Swadista Aahar   \n",
       "44                              Svadu Pure Ghee Sweets   \n",
       "45                                       Sai Abhiruchi   \n",
       "49                                        Balaji's Veg   \n",
       "51                                 Donne Biryani Mandi   \n",
       "60                             calicut cafe restaurant   \n",
       "65                                       World of asia   \n",
       "66                                       Ghar Ka Khana   \n",
       "68                                   KANNUR FOOD POINT   \n",
       "69                                  KANNOOR RESTAURANT   \n",
       "70                                            Fattoush   \n",
       "76                           BIRIYANI TASTE MASTH(BTM)   \n",
       "79                                   Tandoori Merchant   \n",
       "80                                         Chinese Bae   \n",
       "83                                     Abhiruchi Hotel   \n",
       "84                                        Punjabi Swag   \n",
       "86                             Gyaani Da Punjabi Dhaba   \n",
       "87                                     Biriyani Bhatti   \n",
       "92                                      BIRYANI CRAFTS   \n",
       "104                                     R.B Food Point   \n",
       "106                                New Tasty Cafeteria   \n",
       "110                                        Biryani Pot   \n",
       "114                                 Savoury Restaurant   \n",
       "\n",
       "                                               Cuisine  \\\n",
       "6                     Fast Food, North Indian, Chinese   \n",
       "7                                              Italian   \n",
       "10   Chinese, South Indian, North Indian, Desserts,...   \n",
       "17                                        North Indian   \n",
       "20                                    Desserts, Bakery   \n",
       "22                   North Indian, Chinese, Hyderabadi   \n",
       "25                                              Indian   \n",
       "27   Andhra, Biryani, Chinese, Desserts, Fast Food,...   \n",
       "31                                        North Indian   \n",
       "33                                Kerala, South Indian   \n",
       "35                      North Indian, Chinese, Biryani   \n",
       "40                                             Biryani   \n",
       "42         South Indian, Snacks, North Indian, Chinese   \n",
       "44                  Desserts, Fast Food, Sweets, Chaat   \n",
       "45           Chinese, South Indian, Andhra, Hyderabadi   \n",
       "49                 North Indian, Chinese, South Indian   \n",
       "51                       Biryani, Andhra, South Indian   \n",
       "60                                Fast Food, Beverages   \n",
       "65                                  Beverages, Chinese   \n",
       "66                                        North Indian   \n",
       "68                                     Kerala, Chinese   \n",
       "69                               North Indian, Chinese   \n",
       "70   Arabian, Beverages, Biryani, Chinese, Desserts...   \n",
       "76                          North Indian, South Indian   \n",
       "79   Andhra, Biryani, Chinese, Desserts, Fast Food,...   \n",
       "80                                       Chinese, Thai   \n",
       "83   Chinese, Hyderabadi, Biryani, Indian, South In...   \n",
       "84   Punjabi, North Indian, Chinese, Fast Food, Hea...   \n",
       "86                                        North Indian   \n",
       "87   Biryani, Hyderabadi, Andhra, North Indian, Sou...   \n",
       "92                                              Indian   \n",
       "104                              Chinese, North Indian   \n",
       "106  Andhra, Chettinad, Chinese, Mughlai, North Indian   \n",
       "110                              North Indian, Biryani   \n",
       "114  Arabian, Middle Eastern, North Indian, Grill, ...   \n",
       "\n",
       "                           Location  Rating  Cost_for_Two  \n",
       "6                BTM 2nd Stage, BTM     4.1           200  \n",
       "7                          BTM, BTM     3.9           500  \n",
       "10             outer ring road, BTM     4.1           500  \n",
       "17                Bommanahalli, BTM     3.7           200  \n",
       "20               BTM 1st stage, BTM     4.3           300  \n",
       "22       Marutinagar Main Road, BTM     4.0           400  \n",
       "25                         BTM, BTM     4.1           250  \n",
       "27                   4th Cross, BTM     4.1           350  \n",
       "31               BTM 2nd stage, BTM     4.2           300  \n",
       "33                         BTM, BTM     4.3           268  \n",
       "35                    3rd main, BTM     3.9           450  \n",
       "40      Chocolate Factory Road, BTM     4.3           300  \n",
       "42   16th Main Road, 2nd Stage, BTM     4.1           250  \n",
       "44                   1st Stage, BTM     4.1           200  \n",
       "45                         BTM, BTM     3.7           250  \n",
       "49                 Mico Layout, BTM     4.1           300  \n",
       "51                         BTM, BTM     4.0           150  \n",
       "60                         BTM, BTM     4.1           280  \n",
       "65                         BTM, BTM     4.0           250  \n",
       "66                         BTM, BTM     4.2           220  \n",
       "68                   SG palaya, BTM     3.9           300  \n",
       "69                         BTM, BTM     4.0           250  \n",
       "70                         BTM, BTM     3.9           400  \n",
       "76                         Btm, BTM     4.2           300  \n",
       "79                   4th Cross, BTM     4.2           100  \n",
       "80                         BTM, BTM     4.5           450  \n",
       "83                         BTM, BTM     4.0           250  \n",
       "84              16th Main Road, BTM     3.7           400  \n",
       "86                   2nd Stage, BTM     4.0           500  \n",
       "87      Kuvempu Nagar, Stage 2, BTM     4.1           350  \n",
       "92                         BTM, BTM     4.1           500  \n",
       "104           Jay Bheema Nagar, BTM     3.7           350  \n",
       "106              Maruthi Nagar, BTM     4.0           350  \n",
       "110          Madiwala Junction, BTM     4.0           500  \n",
       "114                   Madiwala, BTM     4.1           600  "
      ]
     },
     "execution_count": 87,
     "metadata": {},
     "output_type": "execute_result"
    }
   ],
   "source": [
    "df_btm=df[df['Location'].str.contains('BTM')]\n",
    "df_btm"
   ]
  },
  {
   "cell_type": "code",
   "execution_count": 187,
   "id": "3a750ec4",
   "metadata": {},
   "outputs": [
    {
     "data": {
      "text/plain": [
       "<AxesSubplot:xlabel='Rating', ylabel='count'>"
      ]
     },
     "execution_count": 187,
     "metadata": {},
     "output_type": "execute_result"
    },
    {
     "data": {
      "image/png": "[encoded data removed]",
      "text/plain": [
       "<Figure size 432x288 with 1 Axes>"
      ]
     },
     "metadata": {
      "needs_background": "light"
     },
     "output_type": "display_data"
    }
   ],
   "source": [
    "import warnings\n",
    "warnings.filterwarnings(action = 'ignore')\n",
    "sns.countplot(df_btm['Rating'])"
   ]
  },
  {
   "cell_type": "code",
   "execution_count": 90,
   "id": "b7a65f88",
   "metadata": {},
   "outputs": [
    {
     "data": {
      "text/plain": [
       "<AxesSubplot:xlabel='Cost_for_Two', ylabel='Count'>"
      ]
     },
     "execution_count": 90,
     "metadata": {},
     "output_type": "execute_result"
    },
    {
     "data": {
      "image/png": "[encoded data removed]",
      "text/plain": [
       "<Figure size 432x288 with 1 Axes>"
      ]
     },
     "metadata": {
      "needs_background": "light"
     },
     "output_type": "display_data"
    }
   ],
   "source": [
    "sns.histplot(df_btm['Cost_for_Two'])"
   ]
  },
  {
   "cell_type": "markdown",
   "id": "13bc6f17",
   "metadata": {},
   "source": [
    "Observations:\n",
    "\n",
    "1.Ratings in BTM is mostly between 4.0 to 4.2\n",
    "\n",
    "2.Cost for two in BTM is mostly between 300 to 500 rupees"
   ]
  },
  {
   "cell_type": "markdown",
   "id": "60c2a7b5",
   "metadata": {},
   "source": [
    "### HSR Area"
   ]
  },
  {
   "cell_type": "code",
   "execution_count": 91,
   "id": "c6c93dac",
   "metadata": {
    "scrolled": true
   },
   "outputs": [
    {
     "data": {
      "text/html": [
       "<div>\n",
       "<style scoped>\n",
       "    .dataframe tbody tr th:only-of-type {\n",
       "        vertical-align: middle;\n",
       "    }\n",
       "\n",
       "    .dataframe tbody tr th {\n",
       "        vertical-align: top;\n",
       "    }\n",
       "\n",
       "    .dataframe thead th {\n",
       "        text-align: right;\n",
       "    }\n",
       "</style>\n",
       "<table border=\"1\" class=\"dataframe\">\n",
       "  <thead>\n",
       "    <tr style=\"text-align: right;\">\n",
       "      <th></th>\n",
       "      <th>Shop_Name</th>\n",
       "      <th>Cuisine</th>\n",
       "      <th>Location</th>\n",
       "      <th>Rating</th>\n",
       "      <th>Cost_for_Two</th>\n",
       "    </tr>\n",
       "  </thead>\n",
       "  <tbody>\n",
       "    <tr>\n",
       "      <th>1</th>\n",
       "      <td>Mumbai Tiffin</td>\n",
       "      <td>North Indian, Home Food, Thalis, Combo</td>\n",
       "      <td>Sector 5, HSR</td>\n",
       "      <td>4.4</td>\n",
       "      <td>400</td>\n",
       "    </tr>\n",
       "    <tr>\n",
       "      <th>3</th>\n",
       "      <td>Al Daaz</td>\n",
       "      <td>American, Arabian, Chinese, Desserts, Fast Foo...</td>\n",
       "      <td>HSR, HSR</td>\n",
       "      <td>4.4</td>\n",
       "      <td>400</td>\n",
       "    </tr>\n",
       "    <tr>\n",
       "      <th>8</th>\n",
       "      <td>Hotel Manu</td>\n",
       "      <td>South Indian, Kerala, Chinese, North Indian</td>\n",
       "      <td>HSR, HSR</td>\n",
       "      <td>4.1</td>\n",
       "      <td>350</td>\n",
       "    </tr>\n",
       "    <tr>\n",
       "      <th>19</th>\n",
       "      <td>Shree Khana Khazana</td>\n",
       "      <td>Indian, Rajasthani</td>\n",
       "      <td>Sector 4, HSR</td>\n",
       "      <td>4.1</td>\n",
       "      <td>350</td>\n",
       "    </tr>\n",
       "    <tr>\n",
       "      <th>24</th>\n",
       "      <td>New Udupi Grand</td>\n",
       "      <td>Chinese, Jain, North Indian, South Indian</td>\n",
       "      <td>HSR, HSR</td>\n",
       "      <td>4.3</td>\n",
       "      <td>150</td>\n",
       "    </tr>\n",
       "    <tr>\n",
       "      <th>36</th>\n",
       "      <td>Biriyani Zone</td>\n",
       "      <td>North Indian, Chinese, Biryani</td>\n",
       "      <td>HSR 1st sector, HSR</td>\n",
       "      <td>4.1</td>\n",
       "      <td>600</td>\n",
       "    </tr>\n",
       "    <tr>\n",
       "      <th>37</th>\n",
       "      <td>Gongura's</td>\n",
       "      <td>North Indian, Chinese, Biryani</td>\n",
       "      <td>Sector 7, HSR</td>\n",
       "      <td>3.8</td>\n",
       "      <td>300</td>\n",
       "    </tr>\n",
       "    <tr>\n",
       "      <th>39</th>\n",
       "      <td>Leon Grill</td>\n",
       "      <td>Turkish, Portuguese, American</td>\n",
       "      <td>3rd Sector, HSR</td>\n",
       "      <td>4.3</td>\n",
       "      <td>300</td>\n",
       "    </tr>\n",
       "    <tr>\n",
       "      <th>41</th>\n",
       "      <td>Cakewala</td>\n",
       "      <td>Desserts</td>\n",
       "      <td>HSR, HSR</td>\n",
       "      <td>4.3</td>\n",
       "      <td>450</td>\n",
       "    </tr>\n",
       "    <tr>\n",
       "      <th>57</th>\n",
       "      <td>Donne Biriyani House</td>\n",
       "      <td>South Indian</td>\n",
       "      <td>3rd sector, HSR</td>\n",
       "      <td>4.0</td>\n",
       "      <td>300</td>\n",
       "    </tr>\n",
       "    <tr>\n",
       "      <th>58</th>\n",
       "      <td>Nanda's</td>\n",
       "      <td>Andhra, Biryani</td>\n",
       "      <td>HSR, HSR</td>\n",
       "      <td>4.0</td>\n",
       "      <td>400</td>\n",
       "    </tr>\n",
       "    <tr>\n",
       "      <th>61</th>\n",
       "      <td>Cake Garden</td>\n",
       "      <td>Desserts, Bakery</td>\n",
       "      <td>HSR, HSR</td>\n",
       "      <td>3.9</td>\n",
       "      <td>250</td>\n",
       "    </tr>\n",
       "    <tr>\n",
       "      <th>71</th>\n",
       "      <td>Nizams Biryani</td>\n",
       "      <td>Biryani, Juices, Kebabs</td>\n",
       "      <td>Venkatapura Main Rd, Teacher's Colony, Jakkasa...</td>\n",
       "      <td>3.6</td>\n",
       "      <td>200</td>\n",
       "    </tr>\n",
       "    <tr>\n",
       "      <th>73</th>\n",
       "      <td>Punjabi Rasoi</td>\n",
       "      <td>North Indian</td>\n",
       "      <td>Sector 3, HSR</td>\n",
       "      <td>4.0</td>\n",
       "      <td>800</td>\n",
       "    </tr>\n",
       "    <tr>\n",
       "      <th>98</th>\n",
       "      <td>Mandya Gowdru Donne Biryani</td>\n",
       "      <td>Biryani</td>\n",
       "      <td>HSR, HSR</td>\n",
       "      <td>0.0</td>\n",
       "      <td>350</td>\n",
       "    </tr>\n",
       "    <tr>\n",
       "      <th>99</th>\n",
       "      <td>Dindigul Thalapakatti Biriyani</td>\n",
       "      <td>North Indian</td>\n",
       "      <td>HSR, HSR</td>\n",
       "      <td>4.1</td>\n",
       "      <td>650</td>\n",
       "    </tr>\n",
       "    <tr>\n",
       "      <th>101</th>\n",
       "      <td>Easy Bites</td>\n",
       "      <td>Snacks, American</td>\n",
       "      <td>9th Main Rd, Sector 6, HSR Layout, HSR</td>\n",
       "      <td>3.8</td>\n",
       "      <td>200</td>\n",
       "    </tr>\n",
       "    <tr>\n",
       "      <th>107</th>\n",
       "      <td>Junior Kuppanna</td>\n",
       "      <td>Chettinad, South Indian</td>\n",
       "      <td>Sector 6, HSR</td>\n",
       "      <td>4.0</td>\n",
       "      <td>550</td>\n",
       "    </tr>\n",
       "  </tbody>\n",
       "</table>\n",
       "</div>"
      ],
      "text/plain": [
       "                          Shop_Name  \\\n",
       "1                     Mumbai Tiffin   \n",
       "3                           Al Daaz   \n",
       "8                        Hotel Manu   \n",
       "19              Shree Khana Khazana   \n",
       "24                  New Udupi Grand   \n",
       "36                    Biriyani Zone   \n",
       "37                        Gongura's   \n",
       "39                       Leon Grill   \n",
       "41                         Cakewala   \n",
       "57             Donne Biriyani House   \n",
       "58                          Nanda's   \n",
       "61                      Cake Garden   \n",
       "71                   Nizams Biryani   \n",
       "73                    Punjabi Rasoi   \n",
       "98      Mandya Gowdru Donne Biryani   \n",
       "99   Dindigul Thalapakatti Biriyani   \n",
       "101                      Easy Bites   \n",
       "107                 Junior Kuppanna   \n",
       "\n",
       "                                               Cuisine  \\\n",
       "1               North Indian, Home Food, Thalis, Combo   \n",
       "3    American, Arabian, Chinese, Desserts, Fast Foo...   \n",
       "8          South Indian, Kerala, Chinese, North Indian   \n",
       "19                                  Indian, Rajasthani   \n",
       "24           Chinese, Jain, North Indian, South Indian   \n",
       "36                      North Indian, Chinese, Biryani   \n",
       "37                      North Indian, Chinese, Biryani   \n",
       "39                       Turkish, Portuguese, American   \n",
       "41                                            Desserts   \n",
       "57                                        South Indian   \n",
       "58                                     Andhra, Biryani   \n",
       "61                                    Desserts, Bakery   \n",
       "71                             Biryani, Juices, Kebabs   \n",
       "73                                        North Indian   \n",
       "98                                             Biryani   \n",
       "99                                        North Indian   \n",
       "101                                   Snacks, American   \n",
       "107                            Chettinad, South Indian   \n",
       "\n",
       "                                              Location  Rating  Cost_for_Two  \n",
       "1                                        Sector 5, HSR     4.4           400  \n",
       "3                                             HSR, HSR     4.4           400  \n",
       "8                                             HSR, HSR     4.1           350  \n",
       "19                                       Sector 4, HSR     4.1           350  \n",
       "24                                            HSR, HSR     4.3           150  \n",
       "36                                 HSR 1st sector, HSR     4.1           600  \n",
       "37                                       Sector 7, HSR     3.8           300  \n",
       "39                                     3rd Sector, HSR     4.3           300  \n",
       "41                                            HSR, HSR     4.3           450  \n",
       "57                                     3rd sector, HSR     4.0           300  \n",
       "58                                            HSR, HSR     4.0           400  \n",
       "61                                            HSR, HSR     3.9           250  \n",
       "71   Venkatapura Main Rd, Teacher's Colony, Jakkasa...     3.6           200  \n",
       "73                                       Sector 3, HSR     4.0           800  \n",
       "98                                            HSR, HSR     0.0           350  \n",
       "99                                            HSR, HSR     4.1           650  \n",
       "101             9th Main Rd, Sector 6, HSR Layout, HSR     3.8           200  \n",
       "107                                      Sector 6, HSR     4.0           550  "
      ]
     },
     "execution_count": 91,
     "metadata": {},
     "output_type": "execute_result"
    }
   ],
   "source": [
    "df_hsr=df[df['Location'].str.contains('HSR')]\n",
    "df_hsr"
   ]
  },
  {
   "cell_type": "code",
   "execution_count": 186,
   "id": "5f25dd51",
   "metadata": {},
   "outputs": [
    {
     "data": {
      "text/plain": [
       "<AxesSubplot:xlabel='Rating', ylabel='count'>"
      ]
     },
     "execution_count": 186,
     "metadata": {},
     "output_type": "execute_result"
    },
    {
     "data": {
      "image/png": "[encoded data removed]",
      "text/plain": [
       "<Figure size 432x288 with 1 Axes>"
      ]
     },
     "metadata": {
      "needs_background": "light"
     },
     "output_type": "display_data"
    }
   ],
   "source": [
    "import warnings\n",
    "warnings.filterwarnings(action = 'ignore')\n",
    "sns.countplot(df_hsr['Rating'])"
   ]
  },
  {
   "cell_type": "code",
   "execution_count": 97,
   "id": "628ea0ae",
   "metadata": {},
   "outputs": [
    {
     "data": {
      "text/plain": [
       "<AxesSubplot:xlabel='Cost_for_Two', ylabel='Count'>"
      ]
     },
     "execution_count": 97,
     "metadata": {},
     "output_type": "execute_result"
    },
    {
     "data": {
      "image/png": "[encoded data removed]",
      "text/plain": [
       "<Figure size 432x288 with 1 Axes>"
      ]
     },
     "metadata": {
      "needs_background": "light"
     },
     "output_type": "display_data"
    }
   ],
   "source": [
    "sns.histplot(df_hsr['Cost_for_Two'])"
   ]
  },
  {
   "cell_type": "markdown",
   "id": "a13bad30",
   "metadata": {},
   "source": [
    "Observations:\n",
    "\n",
    "1.Ratings in HSR is mostly between 4.0 to 4.3 and fairly distributed between 3.6 to 3.9\n",
    "\n",
    "2.Cost for two in BTM is mostly between 3200 to 400 rupees"
   ]
  },
  {
   "cell_type": "markdown",
   "id": "45224a17",
   "metadata": {},
   "source": [
    "# Cost wise analysis"
   ]
  },
  {
   "cell_type": "markdown",
   "id": "5377adab",
   "metadata": {},
   "source": [
    "### Expensive resturants"
   ]
  },
  {
   "cell_type": "code",
   "execution_count": 13,
   "id": "cc608007",
   "metadata": {},
   "outputs": [
    {
     "data": {
      "text/html": [
       "<div>\n",
       "<style scoped>\n",
       "    .dataframe tbody tr th:only-of-type {\n",
       "        vertical-align: middle;\n",
       "    }\n",
       "\n",
       "    .dataframe tbody tr th {\n",
       "        vertical-align: top;\n",
       "    }\n",
       "\n",
       "    .dataframe thead th {\n",
       "        text-align: right;\n",
       "    }\n",
       "</style>\n",
       "<table border=\"1\" class=\"dataframe\">\n",
       "  <thead>\n",
       "    <tr style=\"text-align: right;\">\n",
       "      <th></th>\n",
       "      <th>Shop_Name</th>\n",
       "      <th>Cost_for_Two</th>\n",
       "    </tr>\n",
       "  </thead>\n",
       "  <tbody>\n",
       "    <tr>\n",
       "      <th>0</th>\n",
       "      <td>Punjabi Rasoi</td>\n",
       "      <td>800</td>\n",
       "    </tr>\n",
       "    <tr>\n",
       "      <th>1</th>\n",
       "      <td>Dindigul Thalapakatti Biriyani</td>\n",
       "      <td>650</td>\n",
       "    </tr>\n",
       "    <tr>\n",
       "      <th>2</th>\n",
       "      <td>Savoury Restaurant</td>\n",
       "      <td>600</td>\n",
       "    </tr>\n",
       "    <tr>\n",
       "      <th>3</th>\n",
       "      <td>Taco Bell</td>\n",
       "      <td>600</td>\n",
       "    </tr>\n",
       "    <tr>\n",
       "      <th>4</th>\n",
       "      <td>Pizza Hut</td>\n",
       "      <td>600</td>\n",
       "    </tr>\n",
       "    <tr>\n",
       "      <th>5</th>\n",
       "      <td>Nagarjuna</td>\n",
       "      <td>600</td>\n",
       "    </tr>\n",
       "    <tr>\n",
       "      <th>6</th>\n",
       "      <td>Biriyani Zone</td>\n",
       "      <td>600</td>\n",
       "    </tr>\n",
       "    <tr>\n",
       "      <th>7</th>\n",
       "      <td>Meghana Foods</td>\n",
       "      <td>550</td>\n",
       "    </tr>\n",
       "    <tr>\n",
       "      <th>8</th>\n",
       "      <td>Junior Kuppanna</td>\n",
       "      <td>550</td>\n",
       "    </tr>\n",
       "    <tr>\n",
       "      <th>9</th>\n",
       "      <td>China Pearl</td>\n",
       "      <td>527</td>\n",
       "    </tr>\n",
       "  </tbody>\n",
       "</table>\n",
       "</div>"
      ],
      "text/plain": [
       "                        Shop_Name  Cost_for_Two\n",
       "0                   Punjabi Rasoi           800\n",
       "1  Dindigul Thalapakatti Biriyani           650\n",
       "2              Savoury Restaurant           600\n",
       "3                       Taco Bell           600\n",
       "4                       Pizza Hut           600\n",
       "5                       Nagarjuna           600\n",
       "6                   Biriyani Zone           600\n",
       "7                   Meghana Foods           550\n",
       "8                 Junior Kuppanna           550\n",
       "9                     China Pearl           527"
      ]
     },
     "execution_count": 13,
     "metadata": {},
     "output_type": "execute_result"
    }
   ],
   "source": [
    "df_exp=df[['Shop_Name','Cost_for_Two']].sort_values(by='Cost_for_Two',ascending=False)\n",
    "df_exp=df_exp.reset_index()\n",
    "df_exp1=df_exp.iloc[0:10,1:]\n",
    "df_exp1"
   ]
  },
  {
   "cell_type": "code",
   "execution_count": 14,
   "id": "de285d1a",
   "metadata": {},
   "outputs": [
    {
     "data": {
      "text/plain": [
       "<AxesSubplot:xlabel='Shop_Name'>"
      ]
     },
     "execution_count": 14,
     "metadata": {},
     "output_type": "execute_result"
    },
    {
     "data": {
      "image/png": "[encoded data removed]",
      "text/plain": [
       "<Figure size 432x288 with 1 Axes>"
      ]
     },
     "metadata": {
      "needs_background": "light"
     },
     "output_type": "display_data"
    }
   ],
   "source": [
    "df_exp1.plot(x='Shop_Name',y='Cost_for_Two',kind='bar',sort_columns=True,colormap='plasma')"
   ]
  },
  {
   "cell_type": "code",
   "execution_count": 167,
   "id": "2c107736",
   "metadata": {},
   "outputs": [
    {
     "data": {
      "image/png": "[encoded data removed]",
      "text/plain": [
       "<Figure size 720x432 with 1 Axes>"
      ]
     },
     "metadata": {
      "needs_background": "light"
     },
     "output_type": "display_data"
    }
   ],
   "source": [
    "sns.set_context(\"talk\", font_scale=1.1)\n",
    "plt.figure(figsize=(10,6))\n",
    "df3=df[df['Cost_for_Two']>527]\n",
    "sns.scatterplot(x=df3['Cost_for_Two'],y=df3['Rating'],hue=df3['Shop_Name'])\n",
    "plt.legend(bbox_to_anchor=(1.6,0.7),\n",
    "           borderaxespad=0)\n",
    "plt.tight_layout()"
   ]
  },
  {
   "cell_type": "markdown",
   "id": "e39f6a56",
   "metadata": {},
   "source": [
    "### Cheap resturants"
   ]
  },
  {
   "cell_type": "code",
   "execution_count": 15,
   "id": "7b4d5bd7",
   "metadata": {},
   "outputs": [
    {
     "data": {
      "text/html": [
       "<div>\n",
       "<style scoped>\n",
       "    .dataframe tbody tr th:only-of-type {\n",
       "        vertical-align: middle;\n",
       "    }\n",
       "\n",
       "    .dataframe tbody tr th {\n",
       "        vertical-align: top;\n",
       "    }\n",
       "\n",
       "    .dataframe thead th {\n",
       "        text-align: right;\n",
       "    }\n",
       "</style>\n",
       "<table border=\"1\" class=\"dataframe\">\n",
       "  <thead>\n",
       "    <tr style=\"text-align: right;\">\n",
       "      <th></th>\n",
       "      <th>Shop_Name</th>\n",
       "      <th>Cost_for_Two</th>\n",
       "    </tr>\n",
       "  </thead>\n",
       "  <tbody>\n",
       "    <tr>\n",
       "      <th>0</th>\n",
       "      <td>Tandoori Merchant</td>\n",
       "      <td>100</td>\n",
       "    </tr>\n",
       "    <tr>\n",
       "      <th>1</th>\n",
       "      <td>99 VARIETY DOSA AND JUICE-Malli mane food court</td>\n",
       "      <td>100</td>\n",
       "    </tr>\n",
       "    <tr>\n",
       "      <th>2</th>\n",
       "      <td>NIC Natural Ice Creams</td>\n",
       "      <td>120</td>\n",
       "    </tr>\n",
       "    <tr>\n",
       "      <th>3</th>\n",
       "      <td>Sri Krishna sagar</td>\n",
       "      <td>126</td>\n",
       "    </tr>\n",
       "    <tr>\n",
       "      <th>4</th>\n",
       "      <td>Maa Di Hatti</td>\n",
       "      <td>129</td>\n",
       "    </tr>\n",
       "    <tr>\n",
       "      <th>5</th>\n",
       "      <td>Donne Biryani House</td>\n",
       "      <td>130</td>\n",
       "    </tr>\n",
       "    <tr>\n",
       "      <th>6</th>\n",
       "      <td>Delhi Food Point</td>\n",
       "      <td>132</td>\n",
       "    </tr>\n",
       "    <tr>\n",
       "      <th>7</th>\n",
       "      <td>Kanti Sweets</td>\n",
       "      <td>150</td>\n",
       "    </tr>\n",
       "    <tr>\n",
       "      <th>8</th>\n",
       "      <td>Madurai Idly Shop</td>\n",
       "      <td>150</td>\n",
       "    </tr>\n",
       "    <tr>\n",
       "      <th>9</th>\n",
       "      <td>Donne Biryani Mandi</td>\n",
       "      <td>150</td>\n",
       "    </tr>\n",
       "  </tbody>\n",
       "</table>\n",
       "</div>"
      ],
      "text/plain": [
       "                                         Shop_Name  Cost_for_Two\n",
       "0                                Tandoori Merchant           100\n",
       "1  99 VARIETY DOSA AND JUICE-Malli mane food court           100\n",
       "2                           NIC Natural Ice Creams           120\n",
       "3                                Sri Krishna sagar           126\n",
       "4                                     Maa Di Hatti           129\n",
       "5                              Donne Biryani House           130\n",
       "6                                 Delhi Food Point           132\n",
       "7                                     Kanti Sweets           150\n",
       "8                                Madurai Idly Shop           150\n",
       "9                              Donne Biryani Mandi           150"
      ]
     },
     "execution_count": 15,
     "metadata": {},
     "output_type": "execute_result"
    }
   ],
   "source": [
    "df_c=df[['Shop_Name','Cost_for_Two']].sort_values(by='Cost_for_Two',ascending=True)\n",
    "df_c=df_c.reset_index()\n",
    "df_c1=df_c.iloc[0:10,1:]\n",
    "df_c1"
   ]
  },
  {
   "cell_type": "code",
   "execution_count": 16,
   "id": "12c921a6",
   "metadata": {},
   "outputs": [
    {
     "data": {
      "text/plain": [
       "<AxesSubplot:xlabel='Shop_Name'>"
      ]
     },
     "execution_count": 16,
     "metadata": {},
     "output_type": "execute_result"
    },
    {
     "data": {
      "image/png": "[encoded data removed]",
      "text/plain": [
       "<Figure size 432x288 with 1 Axes>"
      ]
     },
     "metadata": {
      "needs_background": "light"
     },
     "output_type": "display_data"
    }
   ],
   "source": [
    "df_c1.plot(x='Shop_Name',y='Cost_for_Two',kind='bar',sort_columns=True,colormap='magma')"
   ]
  },
  {
   "cell_type": "code",
   "execution_count": 185,
   "id": "011a9542",
   "metadata": {},
   "outputs": [
    {
     "data": {
      "image/png": "[encoded data removed]",
      "text/plain": [
       "<Figure size 720x432 with 1 Axes>"
      ]
     },
     "metadata": {
      "needs_background": "light"
     },
     "output_type": "display_data"
    }
   ],
   "source": [
    "import warnings\n",
    "warnings.filterwarnings(action = 'ignore')\n",
    "sns.set_context(\"talk\", font_scale=1.1)\n",
    "plt.figure(figsize=(10,6))\n",
    "df4=df[df['Cost_for_Two']<151]\n",
    "sns.scatterplot(x=df4['Cost_for_Two'],y=df4['Rating'],hue=df4['Shop_Name'])\n",
    "plt.legend(bbox_to_anchor=(2.3,0.8),\n",
    "           borderaxespad=0)\n",
    "plt.tight_layout()"
   ]
  },
  {
   "cell_type": "markdown",
   "id": "f04e476b",
   "metadata": {},
   "source": [
    "### Cuisine Analysis"
   ]
  },
  {
   "cell_type": "code",
   "execution_count": 188,
   "id": "8f9a82fe",
   "metadata": {},
   "outputs": [
    {
     "data": {
      "text/plain": [
       "0                                                 Sweets\n",
       "1                 North Indian, Home Food, Thalis, Combo\n",
       "2      South Indian, North Indian, Fast Food, Beverag...\n",
       "3      American, Arabian, Chinese, Desserts, Fast Foo...\n",
       "4                                          Chinese, Thai\n",
       "                             ...                        \n",
       "113                            Pan-Asian, Chinese, Asian\n",
       "114    Arabian, Middle Eastern, North Indian, Grill, ...\n",
       "115              North Indian, Chinese, Seafood, Biryani\n",
       "116                                         North Indian\n",
       "117                                      Andhra, Biryani\n",
       "Name: Cuisine, Length: 118, dtype: object"
      ]
     },
     "execution_count": 188,
     "metadata": {},
     "output_type": "execute_result"
    }
   ],
   "source": [
    "df['Cuisine']"
   ]
  },
  {
   "cell_type": "code",
   "execution_count": 189,
   "id": "70fc6892",
   "metadata": {
    "scrolled": true
   },
   "outputs": [
    {
     "data": {
      "text/plain": [
       "'Sweets, North Indian, Home Food, Thalis, Combo, South Indian, North Indian, Fast Food, Beverages, Jain, American, Arabian, Chinese, Desserts, Fast Food, Mughlai, North Indian, Chinese, Thai, North Indian, Fast Food, North Indian, Chinese, Italian, South Indian, Kerala, Chinese, North Indian, Pizzas, Italian, Mexican, Chinese, South Indian, North Indian, Desserts, Fast Food, Kerala, Andhra, Beverages, Mughlai, Seafood, Desserts, Chinese, Andhra, Biryani, Seafood, Chinese, South Indian, Chinese, Desserts, North Indian, Arabian, Fast Food, Desserts, Beverages, North Indian, North Indian, Indian, Rajasthani, Desserts, Bakery, Chinese, Healthy Food, North Indian, North Indian, Chinese, Hyderabadi, Fast Food, Chinese, Jain, North Indian, South Indian, Indian, North Indian, South Indian, Chinese, Andhra, Biryani, Chinese, Desserts, Fast Food, Seafood, South Indian, American, Fast Food, Biryani, Seafood, North Indian, Chinese, Desserts, Andhra, South Indian, Snacks, American, North Indian, South Indian, Kerala, South Indian, Mexican, North Indian, Chinese, Biryani, North Indian, Chinese, Biryani, North Indian, Chinese, Biryani, North Indian, Turkish, Portuguese, American, Biryani, Desserts, South Indian, Snacks, North Indian, Chinese, Desserts, Desserts, Fast Food, Sweets, Chaat, Chinese, South Indian, Andhra, Hyderabadi, Pizzas, Fast Food, Biryani, Mughlai, South Indian, Chinese, Asian, North Indian, Chinese, South Indian, Italian, Desserts, Pizzas, Biryani, Andhra, South Indian, Chinese, Continental, Italian, Mediterranean, Thai, Lebanese, American, Asian, Beverages, Bakery, Biryani, Cafe, Desserts, Healthy Food, Mexican, North Indian, Salads, Pizzas, Biryani, Pizzas, Chinese, Pastas, Salads, American, Continental, North Indian, American, Fast Food, South Indian, Andhra, Biryani, Chinese, South Indian, North Indian, Fast Food, Fast Food, Beverages, Desserts, Bakery, Biryani, South Indian, North Indian, Fast Food, Andhra, Beverages, Mughlai, Seafood, Punjabi, Hyderabadi, Chinese, Biryani, Chinese, Beverages, Chinese, North Indian, South Indian, Biryani, Kerala, North Indian, Chinese, Kerala, Chinese, North Indian, Chinese, Arabian, Beverages, Biryani, Chinese, Desserts, North Indian, Biryani, Juices, Kebabs, Andhra, South Indian, North Indian, American, Fast Food, Beverages, Cafe, Snacks, North Indian, South Indian, Turkish, Portuguese, American, Grill, Home Food, Healthy Food, Indian, Andhra, Biryani, Chinese, Desserts, Fast Food, Seafood, South Indian, Chinese, Thai, Chinese, Ice Cream, Chinese, Hyderabadi, Biryani, Indian, South Indian, Andhra, Tandoor, Punjabi, North Indian, Chinese, Fast Food, Healthy Food, Mughlai, Desserts, American, North Indian, Biryani, Hyderabadi, Andhra, North Indian, South Indian, Chinese, Fast Food, Juices, North Indian, North Indian, Chaat, Snacks, Fast Food, Desserts, Indian, Desserts, Mughlai, Seafood, Ice Cream, Desserts, Ice Cream, Desserts, Fast Food, Italian, Biryani, North Indian, North Indian, Snacks, American, Desserts, South Indian, Chinese, North Indian, Biryani, Kebabs, Andhra, Chettinad, Chinese, Mughlai, North Indian, Chettinad, South Indian, Continental, Indian, Pan-Asian, Oriental, North Indian, South Indian, North Indian, Biryani, North Indian, South Indian, Andhra, Biryani, Pan-Asian, Chinese, Asian, Arabian, Middle Eastern, North Indian, Grill, Seafood, Kerala, Chinese, North Indian, Chinese, Seafood, Biryani, North Indian, Andhra, Biryani'"
      ]
     },
     "execution_count": 189,
     "metadata": {},
     "output_type": "execute_result"
    }
   ],
   "source": [
    "df_c= ', '.join(df['Cuisine'])\n",
    "df_c"
   ]
  },
  {
   "cell_type": "code",
   "execution_count": 192,
   "id": "042a2a34",
   "metadata": {
    "scrolled": true
   },
   "outputs": [
    {
     "name": "stdout",
     "output_type": "stream",
     "text": [
      "Collecting wordcloud\n",
      "  Downloading wordcloud-1.8.1-cp38-cp38-win_amd64.whl (155 kB)\n",
      "Requirement already satisfied: numpy>=1.6.1 in c:\\users\\shiva\\anaconda3\\lib\\site-packages (from wordcloud) (1.20.1)\n",
      "Requirement already satisfied: pillow in c:\\users\\shiva\\anaconda3\\lib\\site-packages (from wordcloud) (8.2.0)\n",
      "Requirement already satisfied: matplotlib in c:\\users\\shiva\\anaconda3\\lib\\site-packages (from wordcloud) (3.3.4)\n",
      "Requirement already satisfied: python-dateutil>=2.1 in c:\\users\\shiva\\anaconda3\\lib\\site-packages (from matplotlib->wordcloud) (2.8.1)\n",
      "Requirement already satisfied: cycler>=0.10 in c:\\users\\shiva\\anaconda3\\lib\\site-packages (from matplotlib->wordcloud) (0.10.0)\n",
      "Requirement already satisfied: kiwisolver>=1.0.1 in c:\\users\\shiva\\anaconda3\\lib\\site-packages (from matplotlib->wordcloud) (1.3.1)\n",
      "Requirement already satisfied: pyparsing!=2.0.4,!=2.1.2,!=2.1.6,>=2.0.3 in c:\\users\\shiva\\anaconda3\\lib\\site-packages (from matplotlib->wordcloud) (2.4.7)\n",
      "Requirement already satisfied: six in c:\\users\\shiva\\anaconda3\\lib\\site-packages (from cycler>=0.10->matplotlib->wordcloud) (1.15.0)\n",
      "Installing collected packages: wordcloud\n",
      "Successfully installed wordcloud-1.8.1\n"
     ]
    }
   ],
   "source": [
    "!pip install wordcloud\n",
    "from wordcloud import WordCloud"
   ]
  },
  {
   "cell_type": "code",
   "execution_count": 193,
   "id": "868ba856",
   "metadata": {},
   "outputs": [
    {
     "data": {
      "image/png": "[encoded data removed]",
      "text/plain": [
       "<Figure size 1584x504 with 1 Axes>"
      ]
     },
     "metadata": {
      "needs_background": "light"
     },
     "output_type": "display_data"
    }
   ],
   "source": [
    "wordcloud = WordCloud(width = 1000, height = 500,background_color = 'white').generate(df_c)\n",
    "plt.figure(figsize = (22, 7))\n",
    "plt.imshow(wordcloud)\n",
    "plt.axis('off')\n",
    "plt.show()"
   ]
  }
 ],
 "metadata": {
  "kernelspec": {
   "display_name": "Python 3",
   "language": "python",
   "name": "python3"
  },
  "language_info": {
   "codemirror_mode": {
    "name": "ipython",
    "version": 3
   },
   "file_extension": ".py",
   "mimetype": "text/x-python",
   "name": "python",
   "nbconvert_exporter": "python",
   "pygments_lexer": "ipython3",
   "version": "3.8.8"
  }
 },
 "nbformat": 4,
 "nbformat_minor": 5
}
